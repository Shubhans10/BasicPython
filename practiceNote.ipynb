{
 "cells": [
  {
   "cell_type": "code",
   "id": "initial_id",
   "metadata": {
    "collapsed": true,
    "ExecuteTime": {
     "end_time": "2025-01-09T18:59:04.973836Z",
     "start_time": "2025-01-09T18:59:04.970334Z"
    }
   },
   "source": [
    "x = 50\n",
    "y = 30\n",
    "z = x*y\n",
    "print(\"the multiplication value of {num2} and {num1} is {res}\".format(num1=x,num2=y,res=z)) #This is done using the format method"
   ],
   "outputs": [
    {
     "name": "stdout",
     "output_type": "stream",
     "text": [
      "the multiplication value of 30 and 50 is 1500\n"
     ]
    }
   ],
   "execution_count": 11
  },
  {
   "metadata": {
    "ExecuteTime": {
     "end_time": "2025-01-09T19:25:37.663858Z",
     "start_time": "2025-01-09T19:25:37.659240Z"
    }
   },
   "cell_type": "code",
   "source": [
    "str = 'Abanti'\n",
    "str[4] #This will return the 5th character of the string"
   ],
   "id": "556803a43c76f913",
   "outputs": [
    {
     "data": {
      "text/plain": [
       "'t'"
      ]
     },
     "execution_count": 41,
     "metadata": {},
     "output_type": "execute_result"
    }
   ],
   "execution_count": 41
  },
  {
   "metadata": {
    "ExecuteTime": {
     "end_time": "2025-01-09T19:08:41.558142Z",
     "start_time": "2025-01-09T19:08:41.554381Z"
    }
   },
   "cell_type": "code",
   "source": "str[4:] #This will return the string from 5th character to the end",
   "id": "e41a651c0b6b8fd3",
   "outputs": [
    {
     "data": {
      "text/plain": [
       "'hans'"
      ]
     },
     "execution_count": 16,
     "metadata": {},
     "output_type": "execute_result"
    }
   ],
   "execution_count": 16
  },
  {
   "metadata": {
    "ExecuteTime": {
     "end_time": "2025-01-09T19:10:00.835491Z",
     "start_time": "2025-01-09T19:10:00.831815Z"
    }
   },
   "cell_type": "code",
   "source": "str[0:5] #This will return the string from 1st character to 5th character",
   "id": "db4d27b69c9bdf34",
   "outputs": [
    {
     "data": {
      "text/plain": [
       "'Shubh'"
      ]
     },
     "execution_count": 18,
     "metadata": {},
     "output_type": "execute_result"
    }
   ],
   "execution_count": 18
  },
  {
   "metadata": {
    "ExecuteTime": {
     "end_time": "2025-01-09T19:19:53.890518Z",
     "start_time": "2025-01-09T19:19:53.887442Z"
    }
   },
   "cell_type": "code",
   "source": "MyList = [1,2,5,'Hello', 'Shubhans', 5.897,[1,2,3,4,['a','b','c']]] #This is a list",
   "id": "31b56bfa4c965de4",
   "outputs": [],
   "execution_count": 33
  },
  {
   "metadata": {
    "ExecuteTime": {
     "end_time": "2025-01-09T19:19:54.859844Z",
     "start_time": "2025-01-09T19:19:54.856270Z"
    }
   },
   "cell_type": "code",
   "source": "print('SO, This is a example of List {}:'.format(MyList))",
   "id": "7f75813c0da377eb",
   "outputs": [
    {
     "name": "stdout",
     "output_type": "stream",
     "text": [
      "SO, This is a example of List [1, 2, 5, 'Hello', 'Shubhans', 5.897, [1, 2, 3, 4, ['a', 'b', 'c']]]:\n"
     ]
    }
   ],
   "execution_count": 34
  },
  {
   "metadata": {
    "ExecuteTime": {
     "end_time": "2025-01-09T19:21:38.888719Z",
     "start_time": "2025-01-09T19:21:38.884870Z"
    }
   },
   "cell_type": "code",
   "source": "MyList[6][4][1] #This will return the 2nd element of the 5th element of the 7th element of the list",
   "id": "d7110cd9cb3d56e9",
   "outputs": [
    {
     "data": {
      "text/plain": [
       "'b'"
      ]
     },
     "execution_count": 38,
     "metadata": {},
     "output_type": "execute_result"
    }
   ],
   "execution_count": 38
  },
  {
   "metadata": {
    "ExecuteTime": {
     "end_time": "2025-01-09T19:25:45.268027Z",
     "start_time": "2025-01-09T19:25:45.264883Z"
    }
   },
   "cell_type": "code",
   "source": "MyList.append(str) #This will append the element to the list",
   "id": "b45f5c9a8cddc794",
   "outputs": [],
   "execution_count": 42
  },
  {
   "metadata": {
    "ExecuteTime": {
     "end_time": "2025-01-09T19:25:46.535690Z",
     "start_time": "2025-01-09T19:25:46.531007Z"
    }
   },
   "cell_type": "code",
   "source": "MyList",
   "id": "c7fcb544032d886f",
   "outputs": [
    {
     "data": {
      "text/plain": [
       "[1,\n",
       " 2,\n",
       " 5,\n",
       " 'Hello',\n",
       " 'Shubhans',\n",
       " 5.897,\n",
       " [1, 2, 3, 4, ['a', 'b', 'c']],\n",
       " 'Appended',\n",
       " 'Abanti']"
      ]
     },
     "execution_count": 43,
     "metadata": {},
     "output_type": "execute_result"
    }
   ],
   "execution_count": 43
  },
  {
   "metadata": {
    "ExecuteTime": {
     "end_time": "2025-01-09T19:26:22.897716Z",
     "start_time": "2025-01-09T19:26:22.894063Z"
    }
   },
   "cell_type": "code",
   "source": "MyList.pop() #This will remove the last element of the list",
   "id": "6ed00cf614a90fc9",
   "outputs": [
    {
     "data": {
      "text/plain": [
       "'Abanti'"
      ]
     },
     "execution_count": 44,
     "metadata": {},
     "output_type": "execute_result"
    }
   ],
   "execution_count": 44
  },
  {
   "metadata": {
    "ExecuteTime": {
     "end_time": "2025-01-09T19:26:30.172388Z",
     "start_time": "2025-01-09T19:26:30.166508Z"
    }
   },
   "cell_type": "code",
   "source": "MyList",
   "id": "2bcc1b4e81e95816",
   "outputs": [
    {
     "data": {
      "text/plain": [
       "[1,\n",
       " 2,\n",
       " 5,\n",
       " 'Hello',\n",
       " 'Shubhans',\n",
       " 5.897,\n",
       " [1, 2, 3, 4, ['a', 'b', 'c']],\n",
       " 'Appended']"
      ]
     },
     "execution_count": 45,
     "metadata": {},
     "output_type": "execute_result"
    }
   ],
   "execution_count": 45
  },
  {
   "metadata": {
    "ExecuteTime": {
     "end_time": "2025-01-09T19:27:14.414242Z",
     "start_time": "2025-01-09T19:27:14.408207Z"
    }
   },
   "cell_type": "code",
   "source": "MyList.pop(3) #This will remove the 4th element of the list",
   "id": "3478e6739325037e",
   "outputs": [
    {
     "data": {
      "text/plain": [
       "'Hello'"
      ]
     },
     "execution_count": 46,
     "metadata": {},
     "output_type": "execute_result"
    }
   ],
   "execution_count": 46
  },
  {
   "metadata": {
    "ExecuteTime": {
     "end_time": "2025-01-09T19:27:21.936636Z",
     "start_time": "2025-01-09T19:27:21.932288Z"
    }
   },
   "cell_type": "code",
   "source": "MyList",
   "id": "8f65d6e31d826f2",
   "outputs": [
    {
     "data": {
      "text/plain": [
       "[1, 2, 5, 'Shubhans', 5.897, [1, 2, 3, 4, ['a', 'b', 'c']], 'Appended']"
      ]
     },
     "execution_count": 47,
     "metadata": {},
     "output_type": "execute_result"
    }
   ],
   "execution_count": 47
  },
  {
   "metadata": {
    "ExecuteTime": {
     "end_time": "2025-01-09T19:27:55.808825Z",
     "start_time": "2025-01-09T19:27:55.805526Z"
    }
   },
   "cell_type": "code",
   "source": "MyList.insert(3, 'Hello') #This will insert the element 'Hello' at the 4th position of the list",
   "id": "7a70f498a18c4330",
   "outputs": [],
   "execution_count": 48
  },
  {
   "metadata": {
    "ExecuteTime": {
     "end_time": "2025-01-09T19:28:08.775643Z",
     "start_time": "2025-01-09T19:28:08.771244Z"
    }
   },
   "cell_type": "code",
   "source": "MyList",
   "id": "9af36057c2226075",
   "outputs": [
    {
     "data": {
      "text/plain": [
       "[1,\n",
       " 2,\n",
       " 5,\n",
       " 'Hello',\n",
       " 'Shubhans',\n",
       " 5.897,\n",
       " [1, 2, 3, 4, ['a', 'b', 'c']],\n",
       " 'Appended']"
      ]
     },
     "execution_count": 49,
     "metadata": {},
     "output_type": "execute_result"
    }
   ],
   "execution_count": 49
  },
  {
   "metadata": {
    "ExecuteTime": {
     "end_time": "2025-01-09T19:28:20.058959Z",
     "start_time": "2025-01-09T19:28:20.054760Z"
    }
   },
   "cell_type": "code",
   "source": "MyList.remove(5.897) #This will remove the element 5.897 from the list",
   "id": "a9ba4de03d14c3bb",
   "outputs": [],
   "execution_count": 50
  },
  {
   "metadata": {
    "ExecuteTime": {
     "end_time": "2025-01-09T19:28:23.349639Z",
     "start_time": "2025-01-09T19:28:23.344050Z"
    }
   },
   "cell_type": "code",
   "source": "MyList",
   "id": "261db1bb3c3bdc35",
   "outputs": [
    {
     "data": {
      "text/plain": [
       "[1, 2, 5, 'Hello', 'Shubhans', [1, 2, 3, 4, ['a', 'b', 'c']], 'Appended']"
      ]
     },
     "execution_count": 51,
     "metadata": {},
     "output_type": "execute_result"
    }
   ],
   "execution_count": 51
  },
  {
   "metadata": {
    "ExecuteTime": {
     "end_time": "2025-01-09T19:28:29.307171Z",
     "start_time": "2025-01-09T19:28:29.304287Z"
    }
   },
   "cell_type": "code",
   "source": "MyList.reverse() #This will reverse the list",
   "id": "9451657b9287fe97",
   "outputs": [],
   "execution_count": 52
  },
  {
   "metadata": {
    "ExecuteTime": {
     "end_time": "2025-01-09T19:28:32.075575Z",
     "start_time": "2025-01-09T19:28:32.071315Z"
    }
   },
   "cell_type": "code",
   "source": "MyList",
   "id": "bffde9d63bfb0b6e",
   "outputs": [
    {
     "data": {
      "text/plain": [
       "['Appended', [1, 2, 3, 4, ['a', 'b', 'c']], 'Shubhans', 'Hello', 5, 2, 1]"
      ]
     },
     "execution_count": 53,
     "metadata": {},
     "output_type": "execute_result"
    }
   ],
   "execution_count": 53
  },
  {
   "metadata": {
    "ExecuteTime": {
     "end_time": "2025-01-09T19:28:43.904132Z",
     "start_time": "2025-01-09T19:28:43.892666Z"
    }
   },
   "cell_type": "code",
   "source": "MyList.sort() #This will sort the list",
   "id": "56819eaa213517d8",
   "outputs": [
    {
     "ename": "TypeError",
     "evalue": "'<' not supported between instances of 'list' and 'str'",
     "output_type": "error",
     "traceback": [
      "\u001B[0;31m---------------------------------------------------------------------------\u001B[0m",
      "\u001B[0;31mTypeError\u001B[0m                                 Traceback (most recent call last)",
      "Cell \u001B[0;32mIn[54], line 1\u001B[0m\n\u001B[0;32m----> 1\u001B[0m \u001B[43mMyList\u001B[49m\u001B[38;5;241;43m.\u001B[39;49m\u001B[43msort\u001B[49m\u001B[43m(\u001B[49m\u001B[43m)\u001B[49m\n",
      "\u001B[0;31mTypeError\u001B[0m: '<' not supported between instances of 'list' and 'str'"
     ]
    }
   ],
   "execution_count": 54
  },
  {
   "metadata": {
    "ExecuteTime": {
     "end_time": "2025-01-09T19:29:18.966815Z",
     "start_time": "2025-01-09T19:29:18.962155Z"
    }
   },
   "cell_type": "code",
   "source": "List_Int = [34,23,54,12,87]",
   "id": "d77283ec151f5154",
   "outputs": [],
   "execution_count": 55
  },
  {
   "metadata": {
    "ExecuteTime": {
     "end_time": "2025-01-09T19:29:24.877631Z",
     "start_time": "2025-01-09T19:29:24.875813Z"
    }
   },
   "cell_type": "code",
   "source": "List_Int.sort() #This will sort the list in ascending order",
   "id": "90492123e87b6dd",
   "outputs": [],
   "execution_count": 56
  },
  {
   "metadata": {
    "ExecuteTime": {
     "end_time": "2025-01-09T19:29:32.959409Z",
     "start_time": "2025-01-09T19:29:32.955795Z"
    }
   },
   "cell_type": "code",
   "source": "List_Int",
   "id": "e372f547e000831d",
   "outputs": [
    {
     "data": {
      "text/plain": [
       "[12, 23, 34, 54, 87]"
      ]
     },
     "execution_count": 57,
     "metadata": {},
     "output_type": "execute_result"
    }
   ],
   "execution_count": 57
  },
  {
   "metadata": {
    "ExecuteTime": {
     "end_time": "2025-01-09T19:30:03.080761Z",
     "start_time": "2025-01-09T19:30:03.079148Z"
    }
   },
   "cell_type": "code",
   "source": "List_Int.sort(reverse=True) #This will sort the list in descending order",
   "id": "8f0837d34a1ac81f",
   "outputs": [],
   "execution_count": 58
  },
  {
   "metadata": {
    "ExecuteTime": {
     "end_time": "2025-01-09T19:30:10.401714Z",
     "start_time": "2025-01-09T19:30:10.398730Z"
    }
   },
   "cell_type": "code",
   "source": "List_Int",
   "id": "e3fe11836d1bf9b3",
   "outputs": [
    {
     "data": {
      "text/plain": [
       "[87, 54, 34, 23, 12]"
      ]
     },
     "execution_count": 59,
     "metadata": {},
     "output_type": "execute_result"
    }
   ],
   "execution_count": 59
  },
  {
   "metadata": {
    "ExecuteTime": {
     "end_time": "2025-01-09T19:30:45.321476Z",
     "start_time": "2025-01-09T19:30:45.318331Z"
    }
   },
   "cell_type": "code",
   "source": "List_Int.clear() #This will clear the list",
   "id": "4678976719819bb2",
   "outputs": [],
   "execution_count": 60
  },
  {
   "metadata": {
    "ExecuteTime": {
     "end_time": "2025-01-09T19:30:47.446428Z",
     "start_time": "2025-01-09T19:30:47.442193Z"
    }
   },
   "cell_type": "code",
   "source": "List_Int",
   "id": "1bf232375edb896b",
   "outputs": [
    {
     "data": {
      "text/plain": [
       "[]"
      ]
     },
     "execution_count": 61,
     "metadata": {},
     "output_type": "execute_result"
    }
   ],
   "execution_count": 61
  },
  {
   "metadata": {
    "ExecuteTime": {
     "end_time": "2025-01-09T19:59:25.687870Z",
     "start_time": "2025-01-09T19:59:25.685242Z"
    }
   },
   "cell_type": "code",
   "source": "my_dict = {'key1':'Abanti','key2':'Shubhans'}",
   "id": "abfe4a1fd8795024",
   "outputs": [],
   "execution_count": 62
  },
  {
   "metadata": {
    "ExecuteTime": {
     "end_time": "2025-01-09T19:59:39.333202Z",
     "start_time": "2025-01-09T19:59:39.331043Z"
    }
   },
   "cell_type": "code",
   "source": "my_dict['key1'] #This will return the value of the key 'key1'",
   "id": "98179ac72c6f169f",
   "outputs": [
    {
     "data": {
      "text/plain": [
       "'Abanti'"
      ]
     },
     "execution_count": 63,
     "metadata": {},
     "output_type": "execute_result"
    }
   ],
   "execution_count": 63
  },
  {
   "metadata": {
    "ExecuteTime": {
     "end_time": "2025-01-09T19:59:46.486464Z",
     "start_time": "2025-01-09T19:59:46.482037Z"
    }
   },
   "cell_type": "code",
   "source": "my_dict",
   "id": "1bf4ff25d5a71303",
   "outputs": [
    {
     "data": {
      "text/plain": [
       "{'key1': 'Abanti', 'key2': 'Shubhans'}"
      ]
     },
     "execution_count": 64,
     "metadata": {},
     "output_type": "execute_result"
    }
   ],
   "execution_count": 64
  },
  {
   "metadata": {
    "ExecuteTime": {
     "end_time": "2025-01-09T20:01:54.871502Z",
     "start_time": "2025-01-09T20:01:54.869538Z"
    }
   },
   "cell_type": "code",
   "source": "my_dict['Name3'] = 'Sourav' #This will add a new key-value pair to the dictionary",
   "id": "79dbb978cc9785",
   "outputs": [],
   "execution_count": 65
  },
  {
   "metadata": {
    "ExecuteTime": {
     "end_time": "2025-01-09T20:02:02.011396Z",
     "start_time": "2025-01-09T20:02:02.007535Z"
    }
   },
   "cell_type": "code",
   "source": "my_dict",
   "id": "358c24ae101464bd",
   "outputs": [
    {
     "data": {
      "text/plain": [
       "{'key1': 'Abanti', 'key2': 'Shubhans', 'Name3': 'Sourav'}"
      ]
     },
     "execution_count": 66,
     "metadata": {},
     "output_type": "execute_result"
    }
   ],
   "execution_count": 66
  },
  {
   "metadata": {
    "ExecuteTime": {
     "end_time": "2025-01-09T20:02:08.119466Z",
     "start_time": "2025-01-09T20:02:08.115135Z"
    }
   },
   "cell_type": "code",
   "source": "my_dict.keys() #This will return the keys of the dictionary",
   "id": "8a3583f1325de248",
   "outputs": [
    {
     "data": {
      "text/plain": [
       "dict_keys(['key1', 'key2', 'Name3'])"
      ]
     },
     "execution_count": 67,
     "metadata": {},
     "output_type": "execute_result"
    }
   ],
   "execution_count": 67
  },
  {
   "metadata": {
    "ExecuteTime": {
     "end_time": "2025-01-09T20:02:57.711010Z",
     "start_time": "2025-01-09T20:02:57.706554Z"
    }
   },
   "cell_type": "code",
   "source": "my_dict.values() #This will return the values of the dictionary",
   "id": "764511191a9433f0",
   "outputs": [
    {
     "data": {
      "text/plain": [
       "dict_values(['Abanti', 'Shubhans', 'Sourav'])"
      ]
     },
     "execution_count": 68,
     "metadata": {},
     "output_type": "execute_result"
    }
   ],
   "execution_count": 68
  },
  {
   "metadata": {
    "ExecuteTime": {
     "end_time": "2025-01-09T20:03:19.445338Z",
     "start_time": "2025-01-09T20:03:19.441696Z"
    }
   },
   "cell_type": "code",
   "source": "my_dict.items() #This will return the key-value pairs of the dictionary",
   "id": "7cd5f014d5619964",
   "outputs": [
    {
     "data": {
      "text/plain": [
       "dict_items([('key1', 'Abanti'), ('key2', 'Shubhans'), ('Name3', 'Sourav')])"
      ]
     },
     "execution_count": 69,
     "metadata": {},
     "output_type": "execute_result"
    }
   ],
   "execution_count": 69
  },
  {
   "metadata": {
    "ExecuteTime": {
     "end_time": "2025-01-09T20:04:28.810108Z",
     "start_time": "2025-01-09T20:04:28.805820Z"
    }
   },
   "cell_type": "code",
   "source": "my_dict.pop('Name3') ",
   "id": "9beb6154822a44f",
   "outputs": [
    {
     "data": {
      "text/plain": [
       "'Sourav'"
      ]
     },
     "execution_count": 71,
     "metadata": {},
     "output_type": "execute_result"
    }
   ],
   "execution_count": 71
  },
  {
   "metadata": {
    "ExecuteTime": {
     "end_time": "2025-01-09T20:05:07.366220Z",
     "start_time": "2025-01-09T20:05:07.363442Z"
    }
   },
   "cell_type": "code",
   "source": "my_dict['key3'] = 'Sourav'",
   "id": "7f2d60afb96fa782",
   "outputs": [],
   "execution_count": 73
  },
  {
   "metadata": {
    "ExecuteTime": {
     "end_time": "2025-01-09T20:06:05.268037Z",
     "start_time": "2025-01-09T20:06:05.263490Z"
    }
   },
   "cell_type": "code",
   "source": "my_dict.popitem()",
   "id": "95e2f8c0698b3b27",
   "outputs": [
    {
     "data": {
      "text/plain": [
       "('key1', 'Abanti')"
      ]
     },
     "execution_count": 77,
     "metadata": {},
     "output_type": "execute_result"
    }
   ],
   "execution_count": 77
  },
  {
   "metadata": {
    "ExecuteTime": {
     "end_time": "2025-01-09T20:06:10.227805Z",
     "start_time": "2025-01-09T20:06:10.224455Z"
    }
   },
   "cell_type": "code",
   "source": "my_dict",
   "id": "1e6ac6fe9fa1bd70",
   "outputs": [
    {
     "data": {
      "text/plain": [
       "{}"
      ]
     },
     "execution_count": 78,
     "metadata": {},
     "output_type": "execute_result"
    }
   ],
   "execution_count": 78
  },
  {
   "metadata": {
    "ExecuteTime": {
     "end_time": "2025-01-09T20:06:22.220160Z",
     "start_time": "2025-01-09T20:06:22.217316Z"
    }
   },
   "cell_type": "code",
   "source": "my_dict.clear()",
   "id": "e9a5472c001d0112",
   "outputs": [],
   "execution_count": 79
  },
  {
   "metadata": {
    "ExecuteTime": {
     "end_time": "2025-01-09T20:07:26.315507Z",
     "start_time": "2025-01-09T20:07:26.312583Z"
    }
   },
   "cell_type": "code",
   "source": "List = [1,2,3,4,5,6,7,8,9,10]",
   "id": "d185e39a07c9dfb3",
   "outputs": [],
   "execution_count": 80
  },
  {
   "metadata": {
    "ExecuteTime": {
     "end_time": "2025-01-09T20:08:35.413464Z",
     "start_time": "2025-01-09T20:08:35.411625Z"
    }
   },
   "cell_type": "code",
   "source": [
    "for num in List:\n",
    "    print(num) #This will print the elements of the list"
   ],
   "id": "5a4da1dc25185cd2",
   "outputs": [
    {
     "name": "stdout",
     "output_type": "stream",
     "text": [
      "1\n",
      "2\n",
      "3\n",
      "4\n",
      "5\n",
      "6\n",
      "7\n",
      "8\n",
      "9\n",
      "10\n"
     ]
    }
   ],
   "execution_count": 81
  },
  {
   "metadata": {
    "ExecuteTime": {
     "end_time": "2025-01-09T20:13:52.085572Z",
     "start_time": "2025-01-09T20:13:52.082458Z"
    }
   },
   "cell_type": "code",
   "source": [
    "for num1 in List:\n",
    "    if not num1%2 == 0:\n",
    "        print(num1)"
   ],
   "id": "de15456651ed846a",
   "outputs": [
    {
     "name": "stdout",
     "output_type": "stream",
     "text": [
      "1\n",
      "3\n",
      "5\n",
      "7\n",
      "9\n"
     ]
    }
   ],
   "execution_count": 85
  },
  {
   "metadata": {
    "ExecuteTime": {
     "end_time": "2025-01-09T20:20:07.635688Z",
     "start_time": "2025-01-09T20:20:07.632174Z"
    }
   },
   "cell_type": "code",
   "source": [
    "for abs in range(0,10,3):\n",
    "    print(abs)"
   ],
   "id": "2631f86aa3f23e83",
   "outputs": [
    {
     "name": "stdout",
     "output_type": "stream",
     "text": [
      "0\n",
      "3\n",
      "6\n",
      "9\n"
     ]
    }
   ],
   "execution_count": 94
  },
  {
   "metadata": {},
   "cell_type": "code",
   "outputs": [],
   "execution_count": null,
   "source": "",
   "id": "fde886df96f70140"
  }
 ],
 "metadata": {
  "kernelspec": {
   "display_name": "Python 3",
   "language": "python",
   "name": "python3"
  },
  "language_info": {
   "codemirror_mode": {
    "name": "ipython",
    "version": 2
   },
   "file_extension": ".py",
   "mimetype": "text/x-python",
   "name": "python",
   "nbconvert_exporter": "python",
   "pygments_lexer": "ipython2",
   "version": "2.7.6"
  }
 },
 "nbformat": 4,
 "nbformat_minor": 5
}
