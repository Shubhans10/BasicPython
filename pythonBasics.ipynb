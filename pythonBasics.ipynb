{
 "cells": [
  {
   "metadata": {},
   "cell_type": "markdown",
   "source": [
    "Basic Python\n",
    "1. Data Types"
   ],
   "id": "ec12de4ffc01c002"
  },
  {
   "cell_type": "code",
   "id": "initial_id",
   "metadata": {
    "collapsed": true,
    "ExecuteTime": {
     "end_time": "2024-10-15T03:28:29.286772Z",
     "start_time": "2024-10-15T03:28:29.283812Z"
    }
   },
   "source": [
    "x = 25\n",
    "y = 3\n",
    "z = x % y"
   ],
   "outputs": [],
   "execution_count": 4
  },
  {
   "metadata": {
    "ExecuteTime": {
     "end_time": "2024-10-15T03:29:30.407268Z",
     "start_time": "2024-10-15T03:29:30.404539Z"
    }
   },
   "cell_type": "code",
   "source": "print(z)",
   "id": "476db46830d89e53",
   "outputs": [
    {
     "name": "stdout",
     "output_type": "stream",
     "text": [
      "1\n"
     ]
    }
   ],
   "execution_count": 7
  },
  {
   "metadata": {
    "ExecuteTime": {
     "end_time": "2024-10-15T03:31:24.637685Z",
     "start_time": "2024-10-15T03:31:24.634952Z"
    }
   },
   "cell_type": "code",
   "source": [
    "name = \"Shubhans\"\n",
    "age = 24"
   ],
   "id": "930d08bebbb94e62",
   "outputs": [],
   "execution_count": 8
  },
  {
   "metadata": {
    "ExecuteTime": {
     "end_time": "2024-10-15T03:32:59.670788Z",
     "start_time": "2024-10-15T03:32:59.668486Z"
    }
   },
   "cell_type": "code",
   "source": "print('Hello, my name is {} and I am {} years old'.format(name, age))",
   "id": "3b0e95fe95fe990e",
   "outputs": [
    {
     "name": "stdout",
     "output_type": "stream",
     "text": [
      "Hello, my name is Shubhans and I am 24 years old\n"
     ]
    }
   ],
   "execution_count": 10
  },
  {
   "metadata": {},
   "cell_type": "markdown",
   "source": "Indexing the Strings",
   "id": "f4cd5d048174fca9"
  },
  {
   "metadata": {
    "ExecuteTime": {
     "end_time": "2024-10-15T03:42:08.974351Z",
     "start_time": "2024-10-15T03:42:08.971843Z"
    }
   },
   "cell_type": "code",
   "source": "greeting = 'Hello There!'",
   "id": "7ee228c707f489d6",
   "outputs": [],
   "execution_count": 11
  },
  {
   "metadata": {
    "ExecuteTime": {
     "end_time": "2024-10-15T03:45:46.568459Z",
     "start_time": "2024-10-15T03:45:46.564265Z"
    }
   },
   "cell_type": "code",
   "source": "greeting[:5] #Slicing the string",
   "id": "9e1803c6e5262bc5",
   "outputs": [
    {
     "data": {
      "text/plain": [
       "'Hello'"
      ]
     },
     "execution_count": 15,
     "metadata": {},
     "output_type": "execute_result"
    }
   ],
   "execution_count": 15
  },
  {
   "metadata": {},
   "cell_type": "markdown",
   "source": "Lists",
   "id": "fc0aef8145328285"
  },
  {
   "metadata": {
    "ExecuteTime": {
     "end_time": "2024-10-15T03:51:49.189684Z",
     "start_time": "2024-10-15T03:51:49.185293Z"
    }
   },
   "cell_type": "code",
   "source": "[1, 2, 3, 4, 5]",
   "id": "3f56b8bf1de057cb",
   "outputs": [
    {
     "data": {
      "text/plain": [
       "[1, 2, 3, 4, 5]"
      ]
     },
     "execution_count": 16,
     "metadata": {},
     "output_type": "execute_result"
    }
   ],
   "execution_count": 16
  },
  {
   "metadata": {
    "ExecuteTime": {
     "end_time": "2024-10-15T03:52:00.285578Z",
     "start_time": "2024-10-15T03:52:00.283404Z"
    }
   },
   "cell_type": "code",
   "outputs": [],
   "execution_count": 17,
   "source": "myList = ['a', 'b', 'c', 'd', 'e', 'f']",
   "id": "7936083ef781fdbd"
  },
  {
   "metadata": {
    "ExecuteTime": {
     "end_time": "2024-10-15T03:52:54.917408Z",
     "start_time": "2024-10-15T03:52:54.914478Z"
    }
   },
   "cell_type": "code",
   "source": "myList.append('g')",
   "id": "f47095989b50e4bd",
   "outputs": [],
   "execution_count": 19
  },
  {
   "metadata": {
    "ExecuteTime": {
     "end_time": "2024-10-15T03:52:58.250300Z",
     "start_time": "2024-10-15T03:52:58.246766Z"
    }
   },
   "cell_type": "code",
   "source": "myList",
   "id": "22d7c7938e239265",
   "outputs": [
    {
     "data": {
      "text/plain": [
       "['a', 'b', 'c', 'd', 'e', 'f', 'g']"
      ]
     },
     "execution_count": 20,
     "metadata": {},
     "output_type": "execute_result"
    }
   ],
   "execution_count": 20
  },
  {
   "metadata": {
    "ExecuteTime": {
     "end_time": "2024-10-15T03:53:31.091890Z",
     "start_time": "2024-10-15T03:53:31.087698Z"
    }
   },
   "cell_type": "code",
   "source": "myList[2]",
   "id": "a296d2771121469c",
   "outputs": [
    {
     "data": {
      "text/plain": [
       "'c'"
      ]
     },
     "execution_count": 21,
     "metadata": {},
     "output_type": "execute_result"
    }
   ],
   "execution_count": 21
  },
  {
   "metadata": {
    "ExecuteTime": {
     "end_time": "2024-10-15T03:55:36.516030Z",
     "start_time": "2024-10-15T03:55:36.512876Z"
    }
   },
   "cell_type": "code",
   "source": "myList[2] = ['x', 'y', 'z']",
   "id": "c182e559e5e935ea",
   "outputs": [],
   "execution_count": 22
  },
  {
   "metadata": {
    "ExecuteTime": {
     "end_time": "2024-10-15T03:55:42.761326Z",
     "start_time": "2024-10-15T03:55:42.757602Z"
    }
   },
   "cell_type": "code",
   "source": "myList",
   "id": "e76378bba4e7361",
   "outputs": [
    {
     "data": {
      "text/plain": [
       "['a', 'b', ['x', 'y', 'z'], 'd', 'e', 'f', 'g']"
      ]
     },
     "execution_count": 23,
     "metadata": {},
     "output_type": "execute_result"
    }
   ],
   "execution_count": 23
  },
  {
   "metadata": {
    "ExecuteTime": {
     "end_time": "2024-10-15T03:55:47.849897Z",
     "start_time": "2024-10-15T03:55:47.847013Z"
    }
   },
   "cell_type": "code",
   "source": "myList[2][1]",
   "id": "6ac45b1e773e06b9",
   "outputs": [
    {
     "data": {
      "text/plain": [
       "'y'"
      ]
     },
     "execution_count": 24,
     "metadata": {},
     "output_type": "execute_result"
    }
   ],
   "execution_count": 24
  },
  {
   "metadata": {},
   "cell_type": "markdown",
   "source": "Dictionaries",
   "id": "b9a2e3f6ae3bf110"
  },
  {
   "metadata": {
    "ExecuteTime": {
     "end_time": "2024-11-04T23:02:26.617002Z",
     "start_time": "2024-11-04T23:02:26.613435Z"
    }
   },
   "cell_type": "code",
   "source": "myDict = {'key1': 'value1', 'key2': 'value2'}",
   "id": "8561a3c88ee9cc1e",
   "outputs": [],
   "execution_count": 1
  },
  {
   "metadata": {
    "ExecuteTime": {
     "end_time": "2024-11-04T23:03:16.792107Z",
     "start_time": "2024-11-04T23:03:16.788826Z"
    }
   },
   "cell_type": "code",
   "source": "myDict['key1']",
   "id": "811789892a30e367",
   "outputs": [
    {
     "data": {
      "text/plain": [
       "'value1'"
      ]
     },
     "execution_count": 3,
     "metadata": {},
     "output_type": "execute_result"
    }
   ],
   "execution_count": 3
  },
  {
   "metadata": {
    "ExecuteTime": {
     "end_time": "2024-11-04T23:06:56.536957Z",
     "start_time": "2024-11-04T23:06:56.534557Z"
    }
   },
   "cell_type": "code",
   "source": "myDict2 = {'key1': [1, 2, 3]}",
   "id": "525b6637652fae51",
   "outputs": [],
   "execution_count": 5
  },
  {
   "metadata": {
    "ExecuteTime": {
     "end_time": "2024-11-04T23:11:34.610068Z",
     "start_time": "2024-11-04T23:11:34.606266Z"
    }
   },
   "cell_type": "code",
   "source": "myDict2['key1'][0]",
   "id": "4bee1f18114d9523",
   "outputs": [
    {
     "data": {
      "text/plain": [
       "1"
      ]
     },
     "execution_count": 9,
     "metadata": {},
     "output_type": "execute_result"
    }
   ],
   "execution_count": 9
  },
  {
   "metadata": {
    "ExecuteTime": {
     "end_time": "2024-11-04T23:13:03.602325Z",
     "start_time": "2024-11-04T23:13:03.598382Z"
    }
   },
   "cell_type": "code",
   "source": "myList = myDict2['key1']",
   "id": "630ea6b5800347bc",
   "outputs": [],
   "execution_count": 11
  },
  {
   "metadata": {
    "ExecuteTime": {
     "end_time": "2024-11-04T23:13:06.113705Z",
     "start_time": "2024-11-04T23:13:06.110015Z"
    }
   },
   "cell_type": "code",
   "source": "myList[1]",
   "id": "b6d0945930990499",
   "outputs": [
    {
     "data": {
      "text/plain": [
       "2"
      ]
     },
     "execution_count": 12,
     "metadata": {},
     "output_type": "execute_result"
    }
   ],
   "execution_count": 12
  },
  {
   "metadata": {
    "ExecuteTime": {
     "end_time": "2024-11-04T23:23:22.399824Z",
     "start_time": "2024-11-04T23:23:22.397687Z"
    }
   },
   "cell_type": "code",
   "source": "myDict3 = {'key1': {'innerKey': ['Sam', 'John', 'Peter']}}",
   "id": "d169a746890f897f",
   "outputs": [],
   "execution_count": 2
  },
  {
   "metadata": {
    "ExecuteTime": {
     "end_time": "2024-11-04T23:15:31.268642Z",
     "start_time": "2024-11-04T23:15:31.265732Z"
    }
   },
   "cell_type": "code",
   "source": "innerList = myDict3['key1']",
   "id": "7a6725224c6d06aa",
   "outputs": [],
   "execution_count": 14
  },
  {
   "metadata": {
    "ExecuteTime": {
     "end_time": "2024-11-04T23:16:24.075450Z",
     "start_time": "2024-11-04T23:16:24.071725Z"
    }
   },
   "cell_type": "code",
   "source": "innerMoreList = innerList['innerKey']",
   "id": "59a75d7b62a8d25f",
   "outputs": [],
   "execution_count": 15
  },
  {
   "metadata": {
    "ExecuteTime": {
     "end_time": "2024-11-04T23:16:39.948244Z",
     "start_time": "2024-11-04T23:16:39.944017Z"
    }
   },
   "cell_type": "code",
   "source": "innerMoreList[1]",
   "id": "103eb1a14b7188e6",
   "outputs": [
    {
     "data": {
      "text/plain": [
       "'John'"
      ]
     },
     "execution_count": 16,
     "metadata": {},
     "output_type": "execute_result"
    }
   ],
   "execution_count": 16
  },
  {
   "metadata": {
    "ExecuteTime": {
     "end_time": "2024-11-04T23:23:26.282537Z",
     "start_time": "2024-11-04T23:23:26.277443Z"
    }
   },
   "cell_type": "code",
   "source": [
    "#Other Option\n",
    "myDict3['key1']['innerKey'][1]"
   ],
   "id": "8cf85bc79c6e290a",
   "outputs": [
    {
     "data": {
      "text/plain": [
       "'John'"
      ]
     },
     "execution_count": 3,
     "metadata": {},
     "output_type": "execute_result"
    }
   ],
   "execution_count": 3
  },
  {
   "metadata": {},
   "cell_type": "markdown",
   "source": "Booleans",
   "id": "fa7517516801bf8e"
  },
  {
   "metadata": {
    "ExecuteTime": {
     "end_time": "2024-11-04T23:26:19.726527Z",
     "start_time": "2024-11-04T23:26:19.724748Z"
    }
   },
   "cell_type": "code",
   "source": "IamGood = True",
   "id": "1e58857eeab0743e",
   "outputs": [],
   "execution_count": 6
  },
  {
   "metadata": {
    "ExecuteTime": {
     "end_time": "2024-11-04T23:27:27.525008Z",
     "start_time": "2024-11-04T23:27:27.522768Z"
    }
   },
   "cell_type": "code",
   "source": "type(IamGood)",
   "id": "9cf54d3063f49343",
   "outputs": [
    {
     "data": {
      "text/plain": [
       "bool"
      ]
     },
     "execution_count": 8,
     "metadata": {},
     "output_type": "execute_result"
    }
   ],
   "execution_count": 8
  },
  {
   "metadata": {},
   "cell_type": "markdown",
   "source": "Sets",
   "id": "2779e8415d641d36"
  },
  {
   "metadata": {
    "ExecuteTime": {
     "end_time": "2024-11-05T01:00:29.031662Z",
     "start_time": "2024-11-05T01:00:29.028811Z"
    }
   },
   "cell_type": "code",
   "source": "findOut = {1,1,1,2,2,3,3,3,4,4,5,5,7}",
   "id": "e2f8a2f314bf2d0a",
   "outputs": [],
   "execution_count": 3
  },
  {
   "metadata": {
    "ExecuteTime": {
     "end_time": "2024-11-05T01:04:32.453430Z",
     "start_time": "2024-11-05T01:04:32.450381Z"
    }
   },
   "cell_type": "code",
   "source": "type(findOut)",
   "id": "8da369e5f0118e90",
   "outputs": [
    {
     "data": {
      "text/plain": [
       "set"
      ]
     },
     "execution_count": 6,
     "metadata": {},
     "output_type": "execute_result"
    }
   ],
   "execution_count": 6
  },
  {
   "metadata": {
    "ExecuteTime": {
     "end_time": "2024-11-05T01:05:37.800750Z",
     "start_time": "2024-11-05T01:05:37.797082Z"
    }
   },
   "cell_type": "code",
   "source": "(1 > 2) | (2 < 3)",
   "id": "99d3eb699f40f674",
   "outputs": [
    {
     "data": {
      "text/plain": [
       "True"
      ]
     },
     "execution_count": 8,
     "metadata": {},
     "output_type": "execute_result"
    }
   ],
   "execution_count": 8
  },
  {
   "metadata": {
    "ExecuteTime": {
     "end_time": "2024-11-13T21:37:25.022674Z",
     "start_time": "2024-11-13T21:37:25.019934Z"
    }
   },
   "cell_type": "code",
   "source": "seq = [1, 2, 3, 4, 5]",
   "id": "ff287fdbdae706ee",
   "outputs": [],
   "execution_count": 2
  },
  {
   "metadata": {},
   "cell_type": "markdown",
   "source": "",
   "id": "a5c7764a1035e498"
  },
  {
   "metadata": {
    "ExecuteTime": {
     "end_time": "2024-11-13T21:38:12.347984Z",
     "start_time": "2024-11-13T21:38:12.345106Z"
    }
   },
   "cell_type": "code",
   "source": [
    "for item in seq:\n",
    "    print(item)"
   ],
   "id": "f85a2dc2b27cb065",
   "outputs": [
    {
     "name": "stdout",
     "output_type": "stream",
     "text": [
      "1\n",
      "2\n",
      "3\n",
      "4\n",
      "5\n"
     ]
    }
   ],
   "execution_count": 5
  },
  {
   "metadata": {
    "ExecuteTime": {
     "end_time": "2024-11-13T21:42:18.030726Z",
     "start_time": "2024-11-13T21:42:18.027553Z"
    }
   },
   "cell_type": "code",
   "source": [
    "i = 1\n",
    "while i <= 5:\n",
    "    print(\"i is :{}\".format(i))\n",
    "    i = i + 1 #i += 1"
   ],
   "id": "41431c3e815dae2d",
   "outputs": [
    {
     "name": "stdout",
     "output_type": "stream",
     "text": [
      "i is :1\n",
      "i is :2\n",
      "i is :3\n",
      "i is :4\n",
      "i is :5\n"
     ]
    }
   ],
   "execution_count": 16
  },
  {
   "metadata": {
    "ExecuteTime": {
     "end_time": "2024-11-13T21:42:41.848681Z",
     "start_time": "2024-11-13T21:42:41.845607Z"
    }
   },
   "cell_type": "code",
   "source": [
    "for x in range(0, 5):\n",
    "    print(x)"
   ],
   "id": "f6ba7a765023925c",
   "outputs": [
    {
     "name": "stdout",
     "output_type": "stream",
     "text": [
      "0\n",
      "1\n",
      "2\n",
      "3\n",
      "4\n"
     ]
    }
   ],
   "execution_count": 17
  },
  {
   "metadata": {
    "ExecuteTime": {
     "end_time": "2024-11-13T21:44:21.443812Z",
     "start_time": "2024-11-13T21:44:21.439797Z"
    }
   },
   "cell_type": "code",
   "source": "list(range(10))",
   "id": "7824bcd166fcf5ec",
   "outputs": [
    {
     "data": {
      "text/plain": [
       "[0, 1, 2, 3, 4, 5, 6, 7, 8, 9]"
      ]
     },
     "execution_count": 18,
     "metadata": {},
     "output_type": "execute_result"
    }
   ],
   "execution_count": 18
  },
  {
   "metadata": {
    "ExecuteTime": {
     "end_time": "2024-11-13T21:45:44.804886Z",
     "start_time": "2024-11-13T21:45:44.802122Z"
    }
   },
   "cell_type": "code",
   "source": "x = [1, 2, 3, 4, 5]",
   "id": "e67ff7d63dd7f84a",
   "outputs": [],
   "execution_count": 19
  },
  {
   "metadata": {
    "ExecuteTime": {
     "end_time": "2024-11-13T21:46:29.747704Z",
     "start_time": "2024-11-13T21:46:29.745547Z"
    }
   },
   "cell_type": "code",
   "source": [
    "out = []\n",
    "for num in x:\n",
    "    out.append(num ** 3)"
   ],
   "id": "f365c168633d17ed",
   "outputs": [],
   "execution_count": 20
  },
  {
   "metadata": {
    "ExecuteTime": {
     "end_time": "2024-11-13T21:46:33.104011Z",
     "start_time": "2024-11-13T21:46:33.100778Z"
    }
   },
   "cell_type": "code",
   "source": "print(out)",
   "id": "1d43e6828303fa11",
   "outputs": [
    {
     "name": "stdout",
     "output_type": "stream",
     "text": [
      "[1, 8, 27, 64, 125]\n"
     ]
    }
   ],
   "execution_count": 21
  },
  {
   "metadata": {
    "ExecuteTime": {
     "end_time": "2024-11-13T21:48:47.093933Z",
     "start_time": "2024-11-13T21:48:47.090677Z"
    }
   },
   "cell_type": "code",
   "source": "output = [num ** 2 for num in x]",
   "id": "cba11cd200a932ce",
   "outputs": [],
   "execution_count": 22
  },
  {
   "metadata": {
    "ExecuteTime": {
     "end_time": "2024-11-13T21:48:49.452511Z",
     "start_time": "2024-11-13T21:48:49.448529Z"
    }
   },
   "cell_type": "code",
   "source": "output",
   "id": "73864bb1e7f6582a",
   "outputs": [
    {
     "data": {
      "text/plain": [
       "[1, 4, 9, 16, 25]"
      ]
     },
     "execution_count": 23,
     "metadata": {},
     "output_type": "execute_result"
    }
   ],
   "execution_count": 23
  },
  {
   "metadata": {
    "ExecuteTime": {
     "end_time": "2024-11-13T21:51:36.751785Z",
     "start_time": "2024-11-13T21:51:36.749104Z"
    }
   },
   "cell_type": "code",
   "source": [
    "def greetings(first_name, last_name):\n",
    "    print('Hello {} {}!, Great to meet you.'.format(first_name, last_name))"
   ],
   "id": "aa4a4704cbead46a",
   "outputs": [],
   "execution_count": 26
  },
  {
   "metadata": {
    "ExecuteTime": {
     "end_time": "2024-11-13T21:51:37.954254Z",
     "start_time": "2024-11-13T21:51:37.951226Z"
    }
   },
   "cell_type": "code",
   "source": "greetings('Shubhans', 'Shukla')",
   "id": "e13888e5fb76b682",
   "outputs": [
    {
     "name": "stdout",
     "output_type": "stream",
     "text": [
      "Hello Shubhans Shukla!, Great to meet you.\n"
     ]
    }
   ],
   "execution_count": 27
  },
  {
   "metadata": {
    "ExecuteTime": {
     "end_time": "2024-11-13T22:05:38.353192Z",
     "start_time": "2024-11-13T22:05:38.350227Z"
    }
   },
   "cell_type": "code",
   "source": [
    "def cube(number):\n",
    "    \"\"\"\n",
    "    This function returns the cube of the number\n",
    "    :param number: \n",
    "    :return: number**3\n",
    "    \"\"\"\n",
    "    return number**3"
   ],
   "id": "8852ffb86585d6fd",
   "outputs": [],
   "execution_count": 46
  },
  {
   "metadata": {
    "ExecuteTime": {
     "end_time": "2024-11-13T22:05:46.747272Z",
     "start_time": "2024-11-13T22:05:46.744763Z"
    }
   },
   "cell_type": "code",
   "source": "xyz = cube(3)",
   "id": "1ed51270f8f33736",
   "outputs": [],
   "execution_count": 48
  },
  {
   "metadata": {
    "ExecuteTime": {
     "end_time": "2024-11-13T22:05:50.297344Z",
     "start_time": "2024-11-13T22:05:50.293771Z"
    }
   },
   "cell_type": "code",
   "source": "xyz #Shift + Tab",
   "id": "629b132f47df687e",
   "outputs": [
    {
     "data": {
      "text/plain": [
       "27"
      ]
     },
     "execution_count": 49,
     "metadata": {},
     "output_type": "execute_result"
    }
   ],
   "execution_count": 49
  }
 ],
 "metadata": {
  "kernelspec": {
   "display_name": "Python 3",
   "language": "python",
   "name": "python3"
  },
  "language_info": {
   "codemirror_mode": {
    "name": "ipython",
    "version": 2
   },
   "file_extension": ".py",
   "mimetype": "text/x-python",
   "name": "python",
   "nbconvert_exporter": "python",
   "pygments_lexer": "ipython2",
   "version": "2.7.6"
  }
 },
 "nbformat": 4,
 "nbformat_minor": 5
}
