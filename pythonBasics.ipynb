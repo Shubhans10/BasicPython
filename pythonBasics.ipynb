{
 "cells": [
  {
   "metadata": {},
   "cell_type": "markdown",
   "source": [
    "Basic Python\n",
    "1. Data Types"
   ],
   "id": "ec12de4ffc01c002"
  },
  {
   "cell_type": "code",
   "id": "initial_id",
   "metadata": {
    "collapsed": true,
    "ExecuteTime": {
     "end_time": "2024-10-15T03:28:29.286772Z",
     "start_time": "2024-10-15T03:28:29.283812Z"
    }
   },
   "source": [
    "x = 25\n",
    "y = 3\n",
    "z = x % y"
   ],
   "outputs": [],
   "execution_count": 4
  },
  {
   "metadata": {
    "ExecuteTime": {
     "end_time": "2024-10-15T03:29:30.407268Z",
     "start_time": "2024-10-15T03:29:30.404539Z"
    }
   },
   "cell_type": "code",
   "source": "print(z)",
   "id": "476db46830d89e53",
   "outputs": [
    {
     "name": "stdout",
     "output_type": "stream",
     "text": [
      "1\n"
     ]
    }
   ],
   "execution_count": 7
  },
  {
   "metadata": {
    "ExecuteTime": {
     "end_time": "2024-10-15T03:31:24.637685Z",
     "start_time": "2024-10-15T03:31:24.634952Z"
    }
   },
   "cell_type": "code",
   "source": [
    "name = \"Shubhans\"\n",
    "age = 24"
   ],
   "id": "930d08bebbb94e62",
   "outputs": [],
   "execution_count": 8
  },
  {
   "metadata": {
    "ExecuteTime": {
     "end_time": "2024-10-15T03:32:59.670788Z",
     "start_time": "2024-10-15T03:32:59.668486Z"
    }
   },
   "cell_type": "code",
   "source": "print('Hello, my name is {} and I am {} years old'.format(name, age))",
   "id": "3b0e95fe95fe990e",
   "outputs": [
    {
     "name": "stdout",
     "output_type": "stream",
     "text": [
      "Hello, my name is Shubhans and I am 24 years old\n"
     ]
    }
   ],
   "execution_count": 10
  },
  {
   "metadata": {},
   "cell_type": "markdown",
   "source": "Indexing the Strings",
   "id": "f4cd5d048174fca9"
  },
  {
   "metadata": {},
   "cell_type": "code",
   "outputs": [],
   "execution_count": null,
   "source": "",
   "id": "7ee228c707f489d6"
  }
 ],
 "metadata": {
  "kernelspec": {
   "display_name": "Python 3",
   "language": "python",
   "name": "python3"
  },
  "language_info": {
   "codemirror_mode": {
    "name": "ipython",
    "version": 2
   },
   "file_extension": ".py",
   "mimetype": "text/x-python",
   "name": "python",
   "nbconvert_exporter": "python",
   "pygments_lexer": "ipython2",
   "version": "2.7.6"
  }
 },
 "nbformat": 4,
 "nbformat_minor": 5
}
