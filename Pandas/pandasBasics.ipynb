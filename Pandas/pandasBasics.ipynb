{
 "cells": [
  {
   "cell_type": "code",
   "id": "initial_id",
   "metadata": {
    "collapsed": true,
    "ExecuteTime": {
     "end_time": "2025-02-12T01:08:04.399130Z",
     "start_time": "2025-02-12T01:08:04.396360Z"
    }
   },
   "source": "import numpy as np",
   "outputs": [],
   "execution_count": 3
  },
  {
   "metadata": {
    "ExecuteTime": {
     "end_time": "2025-02-12T01:08:05.383189Z",
     "start_time": "2025-02-12T01:08:05.380266Z"
    }
   },
   "cell_type": "code",
   "source": "import pandas as pd",
   "id": "6101ca03f50df2b4",
   "outputs": [],
   "execution_count": 4
  },
  {
   "metadata": {
    "ExecuteTime": {
     "end_time": "2025-02-12T01:08:58.284578Z",
     "start_time": "2025-02-12T01:08:58.281677Z"
    }
   },
   "cell_type": "code",
   "source": [
    "labels = ['a','b','c']\n",
    "my_data = [10,20,30]\n",
    "arr = np.array(my_data)\n",
    "d = {'a':10,'b':20,'c':30}"
   ],
   "id": "8465232b224b9a91",
   "outputs": [],
   "execution_count": 5
  },
  {
   "metadata": {
    "ExecuteTime": {
     "end_time": "2025-02-12T01:09:31.881414Z",
     "start_time": "2025-02-12T01:09:31.873217Z"
    }
   },
   "cell_type": "code",
   "source": "pd.Series(data = my_data)",
   "id": "8ef8234c3b59f5b7",
   "outputs": [
    {
     "data": {
      "text/plain": [
       "0    10\n",
       "1    20\n",
       "2    30\n",
       "dtype: int64"
      ]
     },
     "execution_count": 6,
     "metadata": {},
     "output_type": "execute_result"
    }
   ],
   "execution_count": 6
  },
  {
   "metadata": {
    "ExecuteTime": {
     "end_time": "2025-02-12T01:10:16.260020Z",
     "start_time": "2025-02-12T01:10:16.255602Z"
    }
   },
   "cell_type": "code",
   "source": "pd.Series(data = my_data, index = labels)",
   "id": "85f644ad9f48ca8e",
   "outputs": [
    {
     "data": {
      "text/plain": [
       "a    10\n",
       "b    20\n",
       "c    30\n",
       "dtype: int64"
      ]
     },
     "execution_count": 7,
     "metadata": {},
     "output_type": "execute_result"
    }
   ],
   "execution_count": 7
  },
  {
   "metadata": {
    "ExecuteTime": {
     "end_time": "2025-02-12T01:10:50.539270Z",
     "start_time": "2025-02-12T01:10:50.534568Z"
    }
   },
   "cell_type": "code",
   "source": "pd.Series(my_data, labels) # same as above",
   "id": "1c4caa0da1baa484",
   "outputs": [
    {
     "data": {
      "text/plain": [
       "a    10\n",
       "b    20\n",
       "c    30\n",
       "dtype: int64"
      ]
     },
     "execution_count": 9,
     "metadata": {},
     "output_type": "execute_result"
    }
   ],
   "execution_count": 9
  },
  {
   "metadata": {
    "ExecuteTime": {
     "end_time": "2025-02-12T01:11:14.055772Z",
     "start_time": "2025-02-12T01:11:14.051795Z"
    }
   },
   "cell_type": "code",
   "source": "pd.Series(arr, labels)",
   "id": "5b938fc5c27c64c9",
   "outputs": [
    {
     "data": {
      "text/plain": [
       "a    10\n",
       "b    20\n",
       "c    30\n",
       "dtype: int64"
      ]
     },
     "execution_count": 10,
     "metadata": {},
     "output_type": "execute_result"
    }
   ],
   "execution_count": 10
  },
  {
   "metadata": {
    "ExecuteTime": {
     "end_time": "2025-02-12T01:11:33.765664Z",
     "start_time": "2025-02-12T01:11:33.761949Z"
    }
   },
   "cell_type": "code",
   "source": "pd.Series(d)",
   "id": "b36006171d86a109",
   "outputs": [
    {
     "data": {
      "text/plain": [
       "a    10\n",
       "b    20\n",
       "c    30\n",
       "dtype: int64"
      ]
     },
     "execution_count": 11,
     "metadata": {},
     "output_type": "execute_result"
    }
   ],
   "execution_count": 11
  },
  {
   "metadata": {
    "ExecuteTime": {
     "end_time": "2025-02-12T01:13:29.289863Z",
     "start_time": "2025-02-12T01:13:29.285146Z"
    }
   },
   "cell_type": "code",
   "source": "pd.Series(data = [sum, print, len])     # Can hold any type of data",
   "id": "1690bd3e0ba03a7a",
   "outputs": [
    {
     "data": {
      "text/plain": [
       "0      <built-in function sum>\n",
       "1    <built-in function print>\n",
       "2      <built-in function len>\n",
       "dtype: object"
      ]
     },
     "execution_count": 14,
     "metadata": {},
     "output_type": "execute_result"
    }
   ],
   "execution_count": 14
  },
  {
   "metadata": {
    "ExecuteTime": {
     "end_time": "2025-02-12T01:13:55.160307Z",
     "start_time": "2025-02-12T01:13:55.157680Z"
    }
   },
   "cell_type": "code",
   "source": "ser1 = pd.Series([1,2,3,4],['USA', 'Germany', 'India', 'Japan'])",
   "id": "b0bf0d78600170fb",
   "outputs": [],
   "execution_count": 15
  },
  {
   "metadata": {
    "ExecuteTime": {
     "end_time": "2025-02-12T01:13:58.356145Z",
     "start_time": "2025-02-12T01:13:58.352539Z"
    }
   },
   "cell_type": "code",
   "source": "ser1",
   "id": "dc93215444a1798c",
   "outputs": [
    {
     "data": {
      "text/plain": [
       "USA        1\n",
       "Germany    2\n",
       "India      3\n",
       "Japan      4\n",
       "dtype: int64"
      ]
     },
     "execution_count": 16,
     "metadata": {},
     "output_type": "execute_result"
    }
   ],
   "execution_count": 16
  },
  {
   "metadata": {
    "ExecuteTime": {
     "end_time": "2025-02-12T01:14:21.927479Z",
     "start_time": "2025-02-12T01:14:21.924783Z"
    }
   },
   "cell_type": "code",
   "source": "ser2 = pd.Series([1,2,5,4],['USA', 'Germany', 'Italy', 'Japan'])",
   "id": "45e26c146a5709ba",
   "outputs": [],
   "execution_count": 17
  },
  {
   "metadata": {
    "ExecuteTime": {
     "end_time": "2025-02-12T01:14:24.577711Z",
     "start_time": "2025-02-12T01:14:24.573987Z"
    }
   },
   "cell_type": "code",
   "source": "ser2",
   "id": "a03ec14c23423701",
   "outputs": [
    {
     "data": {
      "text/plain": [
       "USA        1\n",
       "Germany    2\n",
       "Italy      5\n",
       "Japan      4\n",
       "dtype: int64"
      ]
     },
     "execution_count": 18,
     "metadata": {},
     "output_type": "execute_result"
    }
   ],
   "execution_count": 18
  },
  {
   "metadata": {
    "ExecuteTime": {
     "end_time": "2025-02-12T01:14:56.598060Z",
     "start_time": "2025-02-12T01:14:56.595664Z"
    }
   },
   "cell_type": "code",
   "source": "ser2['USA']",
   "id": "4ee8a89dac56b066",
   "outputs": [
    {
     "data": {
      "text/plain": [
       "1"
      ]
     },
     "execution_count": 19,
     "metadata": {},
     "output_type": "execute_result"
    }
   ],
   "execution_count": 19
  },
  {
   "metadata": {
    "ExecuteTime": {
     "end_time": "2025-02-12T01:15:38.615943Z",
     "start_time": "2025-02-12T01:15:38.613012Z"
    }
   },
   "cell_type": "code",
   "source": "ser3 = pd.Series(data = labels)",
   "id": "e43571774c40e6b8",
   "outputs": [],
   "execution_count": 20
  },
  {
   "metadata": {
    "ExecuteTime": {
     "end_time": "2025-02-12T01:15:40.871471Z",
     "start_time": "2025-02-12T01:15:40.868866Z"
    }
   },
   "cell_type": "code",
   "source": "ser3",
   "id": "e8913ea8d0cee096",
   "outputs": [
    {
     "data": {
      "text/plain": [
       "0    a\n",
       "1    b\n",
       "2    c\n",
       "dtype: object"
      ]
     },
     "execution_count": 21,
     "metadata": {},
     "output_type": "execute_result"
    }
   ],
   "execution_count": 21
  },
  {
   "metadata": {
    "ExecuteTime": {
     "end_time": "2025-02-12T01:15:51.926537Z",
     "start_time": "2025-02-12T01:15:51.922892Z"
    }
   },
   "cell_type": "code",
   "source": "ser3[0]",
   "id": "e3d168e978c4a7e2",
   "outputs": [
    {
     "data": {
      "text/plain": [
       "'a'"
      ]
     },
     "execution_count": 22,
     "metadata": {},
     "output_type": "execute_result"
    }
   ],
   "execution_count": 22
  },
  {
   "metadata": {
    "ExecuteTime": {
     "end_time": "2025-02-12T01:15:56.936657Z",
     "start_time": "2025-02-12T01:15:56.928775Z"
    }
   },
   "cell_type": "code",
   "source": "ser1 + ser2",
   "id": "684375c0c06d0c52",
   "outputs": [
    {
     "data": {
      "text/plain": [
       "Germany    4.0\n",
       "India      NaN\n",
       "Italy      NaN\n",
       "Japan      8.0\n",
       "USA        2.0\n",
       "dtype: float64"
      ]
     },
     "execution_count": 23,
     "metadata": {},
     "output_type": "execute_result"
    }
   ],
   "execution_count": 23
  },
  {
   "metadata": {
    "ExecuteTime": {
     "end_time": "2025-02-12T01:16:55.911442Z",
     "start_time": "2025-02-12T01:16:55.908277Z"
    }
   },
   "cell_type": "code",
   "source": "ser1['USA']",
   "id": "a6b08e50c746a61d",
   "outputs": [
    {
     "data": {
      "text/plain": [
       "1"
      ]
     },
     "execution_count": 24,
     "metadata": {},
     "output_type": "execute_result"
    }
   ],
   "execution_count": 24
  },
  {
   "metadata": {},
   "cell_type": "code",
   "outputs": [],
   "execution_count": null,
   "source": "",
   "id": "c5d6b6031d128144"
  }
 ],
 "metadata": {
  "kernelspec": {
   "display_name": "Python 3",
   "language": "python",
   "name": "python3"
  },
  "language_info": {
   "codemirror_mode": {
    "name": "ipython",
    "version": 2
   },
   "file_extension": ".py",
   "mimetype": "text/x-python",
   "name": "python",
   "nbconvert_exporter": "python",
   "pygments_lexer": "ipython2",
   "version": "2.7.6"
  }
 },
 "nbformat": 4,
 "nbformat_minor": 5
}
