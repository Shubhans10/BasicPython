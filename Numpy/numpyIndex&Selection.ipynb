{
 "cells": [
  {
   "cell_type": "code",
   "id": "initial_id",
   "metadata": {
    "collapsed": true,
    "ExecuteTime": {
     "end_time": "2025-02-10T00:08:53.705719Z",
     "start_time": "2025-02-10T00:08:53.646503Z"
    }
   },
   "source": "import numpy as np",
   "outputs": [],
   "execution_count": 1
  },
  {
   "metadata": {
    "ExecuteTime": {
     "end_time": "2025-02-10T00:09:22.029021Z",
     "start_time": "2025-02-10T00:09:22.026645Z"
    }
   },
   "cell_type": "code",
   "source": "arr = np.arange(0,11)",
   "id": "ea26a87c02594c64",
   "outputs": [],
   "execution_count": 2
  },
  {
   "metadata": {
    "ExecuteTime": {
     "end_time": "2025-02-10T00:09:24.247214Z",
     "start_time": "2025-02-10T00:09:24.241987Z"
    }
   },
   "cell_type": "code",
   "source": "arr",
   "id": "15d841011b90008f",
   "outputs": [
    {
     "data": {
      "text/plain": [
       "array([ 0,  1,  2,  3,  4,  5,  6,  7,  8,  9, 10])"
      ]
     },
     "execution_count": 3,
     "metadata": {},
     "output_type": "execute_result"
    }
   ],
   "execution_count": 3
  },
  {
   "metadata": {
    "ExecuteTime": {
     "end_time": "2025-02-10T00:10:21.976901Z",
     "start_time": "2025-02-10T00:10:21.973371Z"
    }
   },
   "cell_type": "code",
   "source": "arr[8] # get the value at index 8",
   "id": "32b4065a1b29f6e5",
   "outputs": [
    {
     "data": {
      "text/plain": [
       "8"
      ]
     },
     "execution_count": 4,
     "metadata": {},
     "output_type": "execute_result"
    }
   ],
   "execution_count": 4
  },
  {
   "metadata": {
    "ExecuteTime": {
     "end_time": "2025-02-10T00:10:24.206422Z",
     "start_time": "2025-02-10T00:10:24.203815Z"
    }
   },
   "cell_type": "code",
   "source": "arr[1:5] # start at index 1 and go up to but not include index 5",
   "id": "a62c387bbe9a1878",
   "outputs": [
    {
     "data": {
      "text/plain": [
       "array([1, 2, 3, 4])"
      ]
     },
     "execution_count": 5,
     "metadata": {},
     "output_type": "execute_result"
    }
   ],
   "execution_count": 5
  },
  {
   "metadata": {
    "ExecuteTime": {
     "end_time": "2025-02-10T00:10:59.074842Z",
     "start_time": "2025-02-10T00:10:59.071797Z"
    }
   },
   "cell_type": "code",
   "source": "arr[4:] # same as arr[4:len(arr)]",
   "id": "95057e9bebc41bea",
   "outputs": [
    {
     "data": {
      "text/plain": [
       "array([ 4,  5,  6,  7,  8,  9, 10])"
      ]
     },
     "execution_count": 6,
     "metadata": {},
     "output_type": "execute_result"
    }
   ],
   "execution_count": 6
  },
  {
   "metadata": {
    "ExecuteTime": {
     "end_time": "2025-02-10T00:11:05.929330Z",
     "start_time": "2025-02-10T00:11:05.925826Z"
    }
   },
   "cell_type": "code",
   "source": "arr[:5] # same as arr[0:5]",
   "id": "eac0454cda5e399",
   "outputs": [
    {
     "data": {
      "text/plain": [
       "array([0, 1, 2, 3, 4])"
      ]
     },
     "execution_count": 7,
     "metadata": {},
     "output_type": "execute_result"
    }
   ],
   "execution_count": 7
  },
  {
   "metadata": {
    "ExecuteTime": {
     "end_time": "2025-02-10T00:13:40.620062Z",
     "start_time": "2025-02-10T00:13:40.617457Z"
    }
   },
   "cell_type": "code",
   "source": "arr[0:3] = 20 # broadcast the value 20 to the first 3 elements",
   "id": "df0a18eaf848c583",
   "outputs": [],
   "execution_count": 8
  },
  {
   "metadata": {
    "ExecuteTime": {
     "end_time": "2025-02-10T00:13:42.802690Z",
     "start_time": "2025-02-10T00:13:42.799958Z"
    }
   },
   "cell_type": "code",
   "source": "arr",
   "id": "4c1a0ed6c3b2bd51",
   "outputs": [
    {
     "data": {
      "text/plain": [
       "array([20, 20, 20,  3,  4,  5,  6,  7,  8,  9, 10])"
      ]
     },
     "execution_count": 9,
     "metadata": {},
     "output_type": "execute_result"
    }
   ],
   "execution_count": 9
  },
  {
   "metadata": {
    "ExecuteTime": {
     "end_time": "2025-02-10T00:13:47.534335Z",
     "start_time": "2025-02-10T00:13:47.532803Z"
    }
   },
   "cell_type": "code",
   "source": "arr = np.arange(0,11)",
   "id": "5168ab8af03d748d",
   "outputs": [],
   "execution_count": 10
  },
  {
   "metadata": {
    "ExecuteTime": {
     "end_time": "2025-02-10T00:14:02.223281Z",
     "start_time": "2025-02-10T00:14:02.220903Z"
    }
   },
   "cell_type": "code",
   "source": "slice_of_arr = arr[0:6]",
   "id": "50f550d31cd10800",
   "outputs": [],
   "execution_count": 11
  },
  {
   "metadata": {
    "ExecuteTime": {
     "end_time": "2025-02-10T00:14:06.290229Z",
     "start_time": "2025-02-10T00:14:06.286963Z"
    }
   },
   "cell_type": "code",
   "source": "slice_of_arr",
   "id": "3fc07642fe565742",
   "outputs": [
    {
     "data": {
      "text/plain": [
       "array([0, 1, 2, 3, 4, 5])"
      ]
     },
     "execution_count": 12,
     "metadata": {},
     "output_type": "execute_result"
    }
   ],
   "execution_count": 12
  },
  {
   "metadata": {
    "ExecuteTime": {
     "end_time": "2025-02-10T00:14:28.630070Z",
     "start_time": "2025-02-10T00:14:28.627789Z"
    }
   },
   "cell_type": "code",
   "source": "slice_of_arr[:] = 22",
   "id": "24eb3a46db7cc4aa",
   "outputs": [],
   "execution_count": 13
  },
  {
   "metadata": {
    "ExecuteTime": {
     "end_time": "2025-02-10T00:14:30.979598Z",
     "start_time": "2025-02-10T00:14:30.976054Z"
    }
   },
   "cell_type": "code",
   "source": "slice_of_arr",
   "id": "c1850a1e381c5c85",
   "outputs": [
    {
     "data": {
      "text/plain": [
       "array([22, 22, 22, 22, 22, 22])"
      ]
     },
     "execution_count": 14,
     "metadata": {},
     "output_type": "execute_result"
    }
   ],
   "execution_count": 14
  },
  {
   "metadata": {
    "ExecuteTime": {
     "end_time": "2025-02-10T00:14:45.505761Z",
     "start_time": "2025-02-10T00:14:45.502366Z"
    }
   },
   "cell_type": "code",
   "source": "arr # the original array is also changed",
   "id": "c9d318fed0c22273",
   "outputs": [
    {
     "data": {
      "text/plain": [
       "array([22, 22, 22, 22, 22, 22,  6,  7,  8,  9, 10])"
      ]
     },
     "execution_count": 15,
     "metadata": {},
     "output_type": "execute_result"
    }
   ],
   "execution_count": 15
  },
  {
   "metadata": {
    "ExecuteTime": {
     "end_time": "2025-02-10T00:15:21.069407Z",
     "start_time": "2025-02-10T00:15:21.067038Z"
    }
   },
   "cell_type": "code",
   "source": "new_copied_arr = arr.copy()",
   "id": "f744f5d9a229f2bc",
   "outputs": [],
   "execution_count": 16
  },
  {
   "metadata": {
    "ExecuteTime": {
     "end_time": "2025-02-10T00:15:24.627331Z",
     "start_time": "2025-02-10T00:15:24.624007Z"
    }
   },
   "cell_type": "code",
   "source": "new_copied_arr",
   "id": "4b5c42d3345c83a0",
   "outputs": [
    {
     "data": {
      "text/plain": [
       "array([22, 22, 22, 22, 22, 22,  6,  7,  8,  9, 10])"
      ]
     },
     "execution_count": 17,
     "metadata": {},
     "output_type": "execute_result"
    }
   ],
   "execution_count": 17
  },
  {
   "metadata": {
    "ExecuteTime": {
     "end_time": "2025-02-10T00:15:31.504960Z",
     "start_time": "2025-02-10T00:15:31.502330Z"
    }
   },
   "cell_type": "code",
   "source": "new_copied_arr[:] = 99",
   "id": "9edab212437b572",
   "outputs": [],
   "execution_count": 18
  },
  {
   "metadata": {
    "ExecuteTime": {
     "end_time": "2025-02-10T00:15:33.053518Z",
     "start_time": "2025-02-10T00:15:33.050587Z"
    }
   },
   "cell_type": "code",
   "source": "new_copied_arr",
   "id": "2c5ad4d5ff403779",
   "outputs": [
    {
     "data": {
      "text/plain": [
       "array([99, 99, 99, 99, 99, 99, 99, 99, 99, 99, 99])"
      ]
     },
     "execution_count": 19,
     "metadata": {},
     "output_type": "execute_result"
    }
   ],
   "execution_count": 19
  },
  {
   "metadata": {
    "ExecuteTime": {
     "end_time": "2025-02-10T00:15:35.313984Z",
     "start_time": "2025-02-10T00:15:35.311265Z"
    }
   },
   "cell_type": "code",
   "source": "arr",
   "id": "8b2d9d563c9060ea",
   "outputs": [
    {
     "data": {
      "text/plain": [
       "array([22, 22, 22, 22, 22, 22,  6,  7,  8,  9, 10])"
      ]
     },
     "execution_count": 20,
     "metadata": {},
     "output_type": "execute_result"
    }
   ],
   "execution_count": 20
  },
  {
   "metadata": {},
   "cell_type": "markdown",
   "source": "# 2D array indexing",
   "id": "1e40dba094b5c4bb"
  },
  {
   "metadata": {
    "ExecuteTime": {
     "end_time": "2025-02-10T00:17:55.463324Z",
     "start_time": "2025-02-10T00:17:55.460724Z"
    }
   },
   "cell_type": "code",
   "source": "arr_2d = np.array(([5,10,15],[15,20,25],[25,30,35]))",
   "id": "930737dd29dfc295",
   "outputs": [],
   "execution_count": 21
  },
  {
   "metadata": {
    "ExecuteTime": {
     "end_time": "2025-02-10T00:17:58.277605Z",
     "start_time": "2025-02-10T00:17:58.275201Z"
    }
   },
   "cell_type": "code",
   "source": "arr_2d",
   "id": "a26579db1fa376fe",
   "outputs": [
    {
     "data": {
      "text/plain": [
       "array([[ 5, 10, 15],\n",
       "       [15, 20, 25],\n",
       "       [25, 30, 35]])"
      ]
     },
     "execution_count": 22,
     "metadata": {},
     "output_type": "execute_result"
    }
   ],
   "execution_count": 22
  },
  {
   "metadata": {
    "ExecuteTime": {
     "end_time": "2025-02-10T00:19:30.201289Z",
     "start_time": "2025-02-10T00:19:30.198374Z"
    }
   },
   "cell_type": "code",
   "source": "arr_2d[1][0] # get the value at row 1, column 0",
   "id": "3349c0b28bd47d1a",
   "outputs": [
    {
     "data": {
      "text/plain": [
       "15"
      ]
     },
     "execution_count": 24,
     "metadata": {},
     "output_type": "execute_result"
    }
   ],
   "execution_count": 24
  },
  {
   "metadata": {
    "ExecuteTime": {
     "end_time": "2025-02-10T00:19:57.115136Z",
     "start_time": "2025-02-10T00:19:57.110398Z"
    }
   },
   "cell_type": "code",
   "source": "arr_2d[1]",
   "id": "3a9c299664d02146",
   "outputs": [
    {
     "data": {
      "text/plain": [
       "array([15, 20, 25])"
      ]
     },
     "execution_count": 25,
     "metadata": {},
     "output_type": "execute_result"
    }
   ],
   "execution_count": 25
  },
  {
   "metadata": {
    "ExecuteTime": {
     "end_time": "2025-02-10T00:20:26.690180Z",
     "start_time": "2025-02-10T00:20:26.686739Z"
    }
   },
   "cell_type": "code",
   "source": "arr_2d[1,0] # same as arr_2d[1][0]",
   "id": "37c7a788cac04de0",
   "outputs": [
    {
     "data": {
      "text/plain": [
       "15"
      ]
     },
     "execution_count": 26,
     "metadata": {},
     "output_type": "execute_result"
    }
   ],
   "execution_count": 26
  },
  {
   "metadata": {
    "ExecuteTime": {
     "end_time": "2025-02-10T00:22:06.414614Z",
     "start_time": "2025-02-10T00:22:06.411415Z"
    }
   },
   "cell_type": "code",
   "source": "arr_2d[:2,1:] # get the first two rows and the last two columns",
   "id": "b133efb92a95c8a3",
   "outputs": [
    {
     "data": {
      "text/plain": [
       "array([[10, 15],\n",
       "       [20, 25]])"
      ]
     },
     "execution_count": 27,
     "metadata": {},
     "output_type": "execute_result"
    }
   ],
   "execution_count": 27
  },
  {
   "metadata": {
    "ExecuteTime": {
     "end_time": "2025-02-10T00:26:15.623230Z",
     "start_time": "2025-02-10T00:26:15.618406Z"
    }
   },
   "cell_type": "code",
   "source": "arr_2d[1:,:2] # get the last row and the first two columns",
   "id": "4b5ea7584c66577c",
   "outputs": [
    {
     "data": {
      "text/plain": [
       "array([[15, 20],\n",
       "       [25, 30]])"
      ]
     },
     "execution_count": 29,
     "metadata": {},
     "output_type": "execute_result"
    }
   ],
   "execution_count": 29
  },
  {
   "metadata": {
    "ExecuteTime": {
     "end_time": "2025-02-10T00:27:33.349504Z",
     "start_time": "2025-02-10T00:27:33.347408Z"
    }
   },
   "cell_type": "code",
   "source": "arr = np.arange(1,11)",
   "id": "bcd25a4e96cd8f83",
   "outputs": [],
   "execution_count": 30
  },
  {
   "metadata": {
    "ExecuteTime": {
     "end_time": "2025-02-10T00:27:35.828267Z",
     "start_time": "2025-02-10T00:27:35.826122Z"
    }
   },
   "cell_type": "code",
   "source": "arr",
   "id": "35a9ff97bdc8973b",
   "outputs": [
    {
     "data": {
      "text/plain": [
       "array([ 1,  2,  3,  4,  5,  6,  7,  8,  9, 10])"
      ]
     },
     "execution_count": 31,
     "metadata": {},
     "output_type": "execute_result"
    }
   ],
   "execution_count": 31
  },
  {
   "metadata": {
    "ExecuteTime": {
     "end_time": "2025-02-10T00:28:24.752242Z",
     "start_time": "2025-02-10T00:28:24.749273Z"
    }
   },
   "cell_type": "code",
   "source": "bool_arr = arr > 5 # get a boolean array",
   "id": "68f4f0fe1f63eaf2",
   "outputs": [],
   "execution_count": 34
  },
  {
   "metadata": {
    "ExecuteTime": {
     "end_time": "2025-02-10T00:28:29.485733Z",
     "start_time": "2025-02-10T00:28:29.483451Z"
    }
   },
   "cell_type": "code",
   "source": "bool_arr",
   "id": "5190cfdce52480b",
   "outputs": [
    {
     "data": {
      "text/plain": [
       "array([False, False, False, False, False,  True,  True,  True,  True,\n",
       "        True])"
      ]
     },
     "execution_count": 35,
     "metadata": {},
     "output_type": "execute_result"
    }
   ],
   "execution_count": 35
  },
  {
   "metadata": {
    "ExecuteTime": {
     "end_time": "2025-02-10T00:28:36.465813Z",
     "start_time": "2025-02-10T00:28:36.462643Z"
    }
   },
   "cell_type": "code",
   "source": "arr[bool_arr] # get the values that are True",
   "id": "264b0602e0d7dc4",
   "outputs": [
    {
     "data": {
      "text/plain": [
       "array([ 6,  7,  8,  9, 10])"
      ]
     },
     "execution_count": 36,
     "metadata": {},
     "output_type": "execute_result"
    }
   ],
   "execution_count": 36
  },
  {
   "metadata": {
    "ExecuteTime": {
     "end_time": "2025-02-10T00:29:39.558990Z",
     "start_time": "2025-02-10T00:29:39.556105Z"
    }
   },
   "cell_type": "code",
   "source": "arr[arr < 3] # get the values that are less than 3",
   "id": "c01864afa06e42f7",
   "outputs": [
    {
     "data": {
      "text/plain": [
       "array([1, 2])"
      ]
     },
     "execution_count": 39,
     "metadata": {},
     "output_type": "execute_result"
    }
   ],
   "execution_count": 39
  },
  {
   "metadata": {
    "ExecuteTime": {
     "end_time": "2025-02-10T00:32:07.434390Z",
     "start_time": "2025-02-10T00:32:07.432056Z"
    }
   },
   "cell_type": "code",
   "source": "new_2d_arr = np.arange(30).reshape(5,6)",
   "id": "da2cc0908b11eeb1",
   "outputs": [],
   "execution_count": 40
  },
  {
   "metadata": {
    "ExecuteTime": {
     "end_time": "2025-02-10T00:32:10.895701Z",
     "start_time": "2025-02-10T00:32:10.892294Z"
    }
   },
   "cell_type": "code",
   "source": "new_2d_arr",
   "id": "151a9ff577c4b50a",
   "outputs": [
    {
     "data": {
      "text/plain": [
       "array([[ 0,  1,  2,  3,  4,  5],\n",
       "       [ 6,  7,  8,  9, 10, 11],\n",
       "       [12, 13, 14, 15, 16, 17],\n",
       "       [18, 19, 20, 21, 22, 23],\n",
       "       [24, 25, 26, 27, 28, 29]])"
      ]
     },
     "execution_count": 41,
     "metadata": {},
     "output_type": "execute_result"
    }
   ],
   "execution_count": 41
  },
  {
   "metadata": {
    "ExecuteTime": {
     "end_time": "2025-02-10T00:34:56.986817Z",
     "start_time": "2025-02-10T00:34:56.983422Z"
    }
   },
   "cell_type": "code",
   "source": "new_2d_arr[1:4,1:5] # Note : Last index is not included",
   "id": "59bceea77ce7358a",
   "outputs": [
    {
     "data": {
      "text/plain": [
       "array([[ 7,  8,  9, 10],\n",
       "       [13, 14, 15, 16],\n",
       "       [19, 20, 21, 22]])"
      ]
     },
     "execution_count": 44,
     "metadata": {},
     "output_type": "execute_result"
    }
   ],
   "execution_count": 44
  },
  {
   "metadata": {},
   "cell_type": "code",
   "outputs": [],
   "execution_count": null,
   "source": "",
   "id": "217b4981e7515951"
  }
 ],
 "metadata": {
  "kernelspec": {
   "display_name": "Python 3",
   "language": "python",
   "name": "python3"
  },
  "language_info": {
   "codemirror_mode": {
    "name": "ipython",
    "version": 2
   },
   "file_extension": ".py",
   "mimetype": "text/x-python",
   "name": "python",
   "nbconvert_exporter": "python",
   "pygments_lexer": "ipython2",
   "version": "2.7.6"
  }
 },
 "nbformat": 4,
 "nbformat_minor": 5
}
