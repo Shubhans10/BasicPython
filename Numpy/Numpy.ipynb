{
 "cells": [
  {
   "cell_type": "code",
   "id": "initial_id",
   "metadata": {
    "collapsed": true,
    "ExecuteTime": {
     "end_time": "2024-12-30T10:20:50.177992Z",
     "start_time": "2024-12-30T10:20:50.128883Z"
    }
   },
   "source": "import numpy as np",
   "outputs": [],
   "execution_count": 2
  },
  {
   "metadata": {},
   "cell_type": "markdown",
   "source": "# Create a 1D array",
   "id": "9a4ed89000e0d4fb"
  },
  {
   "metadata": {
    "ExecuteTime": {
     "end_time": "2024-12-30T10:20:59.466541Z",
     "start_time": "2024-12-30T10:20:59.463840Z"
    }
   },
   "cell_type": "code",
   "source": "myList = [1, 2, 3, 4, 5]",
   "id": "a1e4fd2bb22d0b6d",
   "outputs": [],
   "execution_count": 7
  },
  {
   "metadata": {
    "ExecuteTime": {
     "end_time": "2024-12-30T10:21:00.751357Z",
     "start_time": "2024-12-30T10:21:00.749057Z"
    }
   },
   "cell_type": "code",
   "source": "arr = np.array(myList)",
   "id": "a0550a975e46ed",
   "outputs": [],
   "execution_count": 8
  },
  {
   "metadata": {
    "ExecuteTime": {
     "end_time": "2024-12-30T10:21:12.015427Z",
     "start_time": "2024-12-30T10:21:12.010797Z"
    }
   },
   "cell_type": "code",
   "source": "arr",
   "id": "b154825a9ef73bc6",
   "outputs": [
    {
     "data": {
      "text/plain": [
       "array([1, 2, 3, 4, 5])"
      ]
     },
     "execution_count": 9,
     "metadata": {},
     "output_type": "execute_result"
    }
   ],
   "execution_count": 9
  },
  {
   "metadata": {
    "ExecuteTime": {
     "end_time": "2024-12-30T10:21:13.489500Z",
     "start_time": "2024-12-30T10:21:13.486411Z"
    }
   },
   "cell_type": "code",
   "source": "my_mat = [[1, 2, 3], [4, 5, 6], [7, 8, 9]]",
   "id": "1f9e385dfa6d9bbf",
   "outputs": [],
   "execution_count": 10
  },
  {
   "metadata": {
    "ExecuteTime": {
     "end_time": "2024-12-30T10:21:14.872205Z",
     "start_time": "2024-12-30T10:21:14.869899Z"
    }
   },
   "cell_type": "code",
   "source": "arr2 = np.array(my_mat)",
   "id": "e69eff09612eca70",
   "outputs": [],
   "execution_count": 11
  },
  {
   "metadata": {
    "ExecuteTime": {
     "end_time": "2024-12-30T10:21:22.437337Z",
     "start_time": "2024-12-30T10:21:22.434161Z"
    }
   },
   "cell_type": "code",
   "source": "arr2",
   "id": "1ed1aca98290f120",
   "outputs": [
    {
     "data": {
      "text/plain": [
       "array([[1, 2, 3],\n",
       "       [4, 5, 6],\n",
       "       [7, 8, 9]])"
      ]
     },
     "execution_count": 12,
     "metadata": {},
     "output_type": "execute_result"
    }
   ],
   "execution_count": 12
  },
  {
   "metadata": {
    "ExecuteTime": {
     "end_time": "2024-12-31T10:00:24.397812Z",
     "start_time": "2024-12-31T10:00:24.388857Z"
    }
   },
   "cell_type": "code",
   "source": "np.arange(0,10,2) # start, stop, step",
   "id": "f5ef8bebb16f1032",
   "outputs": [
    {
     "data": {
      "text/plain": [
       "array([0, 2, 4, 6, 8])"
      ]
     },
     "execution_count": 13,
     "metadata": {},
     "output_type": "execute_result"
    }
   ],
   "execution_count": 13
  },
  {
   "metadata": {
    "ExecuteTime": {
     "end_time": "2024-12-31T10:00:26.378503Z",
     "start_time": "2024-12-31T10:00:26.375225Z"
    }
   },
   "cell_type": "code",
   "source": "np.zeros(3) ",
   "id": "1455929a2e2e166f",
   "outputs": [
    {
     "data": {
      "text/plain": [
       "array([0., 0., 0.])"
      ]
     },
     "execution_count": 14,
     "metadata": {},
     "output_type": "execute_result"
    }
   ],
   "execution_count": 14
  },
  {
   "metadata": {
    "ExecuteTime": {
     "end_time": "2024-12-31T10:00:31.064864Z",
     "start_time": "2024-12-31T10:00:31.061795Z"
    }
   },
   "cell_type": "code",
   "source": "np.zeros((2,3))",
   "id": "c246c8bec8399a2e",
   "outputs": [
    {
     "data": {
      "text/plain": [
       "array([[0., 0., 0.],\n",
       "       [0., 0., 0.]])"
      ]
     },
     "execution_count": 15,
     "metadata": {},
     "output_type": "execute_result"
    }
   ],
   "execution_count": 15
  },
  {
   "metadata": {
    "ExecuteTime": {
     "end_time": "2024-12-31T10:00:42.611180Z",
     "start_time": "2024-12-31T10:00:42.607553Z"
    }
   },
   "cell_type": "code",
   "source": "np.ones(4)",
   "id": "685ff9e4bbdbd253",
   "outputs": [
    {
     "data": {
      "text/plain": [
       "array([1., 1., 1., 1.])"
      ]
     },
     "execution_count": 16,
     "metadata": {},
     "output_type": "execute_result"
    }
   ],
   "execution_count": 16
  },
  {
   "metadata": {
    "ExecuteTime": {
     "end_time": "2024-12-31T10:00:45.654618Z",
     "start_time": "2024-12-31T10:00:45.650887Z"
    }
   },
   "cell_type": "code",
   "source": "np.ones((3,4))",
   "id": "39fe8aab4f7a78d4",
   "outputs": [
    {
     "data": {
      "text/plain": [
       "array([[1., 1., 1., 1.],\n",
       "       [1., 1., 1., 1.],\n",
       "       [1., 1., 1., 1.]])"
      ]
     },
     "execution_count": 17,
     "metadata": {},
     "output_type": "execute_result"
    }
   ],
   "execution_count": 17
  },
  {
   "metadata": {
    "ExecuteTime": {
     "end_time": "2024-12-31T10:00:49.733080Z",
     "start_time": "2024-12-31T10:00:49.728399Z"
    }
   },
   "cell_type": "code",
   "source": "np.linspace(0,5,10) # start, stop, number of points",
   "id": "170dd83f420ecd95",
   "outputs": [
    {
     "data": {
      "text/plain": [
       "array([0.        , 0.55555556, 1.11111111, 1.66666667, 2.22222222,\n",
       "       2.77777778, 3.33333333, 3.88888889, 4.44444444, 5.        ])"
      ]
     },
     "execution_count": 18,
     "metadata": {},
     "output_type": "execute_result"
    }
   ],
   "execution_count": 18
  },
  {
   "metadata": {
    "ExecuteTime": {
     "end_time": "2024-12-31T10:04:40.334539Z",
     "start_time": "2024-12-31T10:04:40.331867Z"
    }
   },
   "cell_type": "code",
   "source": "np.eye(5) # identity matrix",
   "id": "8488657a5df0f1f3",
   "outputs": [
    {
     "data": {
      "text/plain": [
       "array([[1., 0., 0., 0., 0.],\n",
       "       [0., 1., 0., 0., 0.],\n",
       "       [0., 0., 1., 0., 0.],\n",
       "       [0., 0., 0., 1., 0.],\n",
       "       [0., 0., 0., 0., 1.]])"
      ]
     },
     "execution_count": 19,
     "metadata": {},
     "output_type": "execute_result"
    }
   ],
   "execution_count": 19
  },
  {
   "metadata": {
    "ExecuteTime": {
     "end_time": "2024-12-31T10:06:53.519901Z",
     "start_time": "2024-12-31T10:06:53.514878Z"
    }
   },
   "cell_type": "code",
   "source": "np.random.rand(5) # random numbers between 0 and 1",
   "id": "6b13992c4e16b44d",
   "outputs": [
    {
     "data": {
      "text/plain": [
       "array([0.49658501, 0.24495041, 0.29795479, 0.71094138, 0.56728637])"
      ]
     },
     "execution_count": 20,
     "metadata": {},
     "output_type": "execute_result"
    }
   ],
   "execution_count": 20
  },
  {
   "metadata": {
    "ExecuteTime": {
     "end_time": "2024-12-31T10:07:51.937090Z",
     "start_time": "2024-12-31T10:07:51.933953Z"
    }
   },
   "cell_type": "code",
   "source": "np.random.rand(5,4) # random numbers between 0 and 1 in a 5x4 matrix",
   "id": "af4516076f2c6f1d",
   "outputs": [
    {
     "data": {
      "text/plain": [
       "array([[0.92304559, 0.47544368, 0.3133001 , 0.09055857],\n",
       "       [0.41968174, 0.01609505, 0.48984578, 0.34081313],\n",
       "       [0.02920253, 0.86620016, 0.48736264, 0.03187913],\n",
       "       [0.83235847, 0.70929348, 0.73439724, 0.53359868],\n",
       "       [0.93290408, 0.73595364, 0.34519497, 0.1576134 ]])"
      ]
     },
     "execution_count": 22,
     "metadata": {},
     "output_type": "execute_result"
    }
   ],
   "execution_count": 22
  },
  {
   "metadata": {
    "ExecuteTime": {
     "end_time": "2024-12-31T10:09:16.631495Z",
     "start_time": "2024-12-31T10:09:16.627419Z"
    }
   },
   "cell_type": "code",
   "source": "np.random.randn(5) # random numbers from a normal distribution",
   "id": "819f0e4c588c90e7",
   "outputs": [
    {
     "data": {
      "text/plain": [
       "array([ 0.31566551, -1.39153485, -0.13975537,  0.86522491,  0.43443347])"
      ]
     },
     "execution_count": 23,
     "metadata": {},
     "output_type": "execute_result"
    }
   ],
   "execution_count": 23
  },
  {
   "metadata": {
    "ExecuteTime": {
     "end_time": "2024-12-31T10:09:20.838590Z",
     "start_time": "2024-12-31T10:09:20.834495Z"
    }
   },
   "cell_type": "code",
   "source": "np.random.randn(5,4) # random numbers from a normal distribution in a 5x4 matrix",
   "id": "1eb679cdc7d914be",
   "outputs": [
    {
     "data": {
      "text/plain": [
       "array([[ 0.0950236 , -0.8052461 , -0.42522104,  1.30848103],\n",
       "       [-1.29603551,  0.34867177, -0.883612  , -0.76091769],\n",
       "       [-1.0579458 ,  0.76189235,  1.52130595, -2.18709022],\n",
       "       [-0.66396525,  0.49210479, -0.66377613,  0.44139364],\n",
       "       [ 0.4863637 ,  0.71994315, -1.30622918,  1.0099954 ]])"
      ]
     },
     "execution_count": 24,
     "metadata": {},
     "output_type": "execute_result"
    }
   ],
   "execution_count": 24
  },
  {
   "metadata": {
    "ExecuteTime": {
     "end_time": "2024-12-31T10:10:54.289350Z",
     "start_time": "2024-12-31T10:10:54.285321Z"
    }
   },
   "cell_type": "code",
   "source": "np.random.randint(1,100,20) # random integers between 1 and 100",
   "id": "de3fbb3164481d68",
   "outputs": [
    {
     "data": {
      "text/plain": [
       "array([22, 21, 50,  9, 29, 77, 64, 96, 83, 64, 75, 95, 24, 66, 79, 83, 34,\n",
       "       33, 81, 74])"
      ]
     },
     "execution_count": 25,
     "metadata": {},
     "output_type": "execute_result"
    }
   ],
   "execution_count": 25
  },
  {
   "metadata": {
    "ExecuteTime": {
     "end_time": "2024-12-31T10:12:22.577052Z",
     "start_time": "2024-12-31T10:12:22.574751Z"
    }
   },
   "cell_type": "code",
   "source": "arr = np.arange(25)",
   "id": "eba8d9bd2b8bfee1",
   "outputs": [],
   "execution_count": 26
  },
  {
   "metadata": {
    "ExecuteTime": {
     "end_time": "2024-12-31T10:12:26.056075Z",
     "start_time": "2024-12-31T10:12:26.051211Z"
    }
   },
   "cell_type": "code",
   "source": "arr",
   "id": "ac2df63472d7d42",
   "outputs": [
    {
     "data": {
      "text/plain": [
       "array([ 0,  1,  2,  3,  4,  5,  6,  7,  8,  9, 10, 11, 12, 13, 14, 15, 16,\n",
       "       17, 18, 19, 20, 21, 22, 23, 24])"
      ]
     },
     "execution_count": 27,
     "metadata": {},
     "output_type": "execute_result"
    }
   ],
   "execution_count": 27
  },
  {
   "metadata": {
    "ExecuteTime": {
     "end_time": "2024-12-31T10:13:28.779223Z",
     "start_time": "2024-12-31T10:13:28.776166Z"
    }
   },
   "cell_type": "code",
   "source": "randarr = np.random.randint(0,35,15)",
   "id": "df0516b314f9baf6",
   "outputs": [],
   "execution_count": 29
  },
  {
   "metadata": {
    "ExecuteTime": {
     "end_time": "2024-12-31T10:13:32.709903Z",
     "start_time": "2024-12-31T10:13:32.706263Z"
    }
   },
   "cell_type": "code",
   "source": "randarr",
   "id": "5adc8bb08c55aac4",
   "outputs": [
    {
     "data": {
      "text/plain": [
       "array([30, 12, 20,  5,  9, 31,  3, 14, 15, 25, 24, 18, 13, 22, 33])"
      ]
     },
     "execution_count": 30,
     "metadata": {},
     "output_type": "execute_result"
    }
   ],
   "execution_count": 30
  },
  {
   "metadata": {
    "ExecuteTime": {
     "end_time": "2024-12-31T10:15:05.630102Z",
     "start_time": "2024-12-31T10:15:05.625525Z"
    }
   },
   "cell_type": "code",
   "source": "arr.reshape(5,5) # must have the same number of elements",
   "id": "6fa59bbf9ac103a4",
   "outputs": [
    {
     "data": {
      "text/plain": [
       "array([[ 0,  1,  2,  3,  4],\n",
       "       [ 5,  6,  7,  8,  9],\n",
       "       [10, 11, 12, 13, 14],\n",
       "       [15, 16, 17, 18, 19],\n",
       "       [20, 21, 22, 23, 24]])"
      ]
     },
     "execution_count": 32,
     "metadata": {},
     "output_type": "execute_result"
    }
   ],
   "execution_count": 32
  },
  {
   "metadata": {
    "ExecuteTime": {
     "end_time": "2024-12-31T10:15:38.904110Z",
     "start_time": "2024-12-31T10:15:38.900128Z"
    }
   },
   "cell_type": "code",
   "source": "randarr.reshape(3,5) # must have the same number of elements",
   "id": "841fc0dd817f232b",
   "outputs": [
    {
     "data": {
      "text/plain": [
       "array([[30, 12, 20,  5,  9],\n",
       "       [31,  3, 14, 15, 25],\n",
       "       [24, 18, 13, 22, 33]])"
      ]
     },
     "execution_count": 33,
     "metadata": {},
     "output_type": "execute_result"
    }
   ],
   "execution_count": 33
  },
  {
   "metadata": {
    "ExecuteTime": {
     "end_time": "2024-12-31T10:26:47.813433Z",
     "start_time": "2024-12-31T10:26:47.810158Z"
    }
   },
   "cell_type": "code",
   "source": "randarr.max() # maximum value",
   "id": "ea39acf6d454c09e",
   "outputs": [
    {
     "data": {
      "text/plain": [
       "33"
      ]
     },
     "execution_count": 34,
     "metadata": {},
     "output_type": "execute_result"
    }
   ],
   "execution_count": 34
  },
  {
   "metadata": {
    "ExecuteTime": {
     "end_time": "2024-12-31T10:26:52.341288Z",
     "start_time": "2024-12-31T10:26:52.338397Z"
    }
   },
   "cell_type": "code",
   "source": "randarr.min() # minimum value",
   "id": "2c56aef1770350b3",
   "outputs": [
    {
     "data": {
      "text/plain": [
       "3"
      ]
     },
     "execution_count": 35,
     "metadata": {},
     "output_type": "execute_result"
    }
   ],
   "execution_count": 35
  },
  {
   "metadata": {
    "ExecuteTime": {
     "end_time": "2024-12-31T10:27:39.528832Z",
     "start_time": "2024-12-31T10:27:39.523441Z"
    }
   },
   "cell_type": "code",
   "source": "randarr.argmax() # index of the maximum value",
   "id": "6ae657f992cd8fb7",
   "outputs": [
    {
     "data": {
      "text/plain": [
       "14"
      ]
     },
     "execution_count": 36,
     "metadata": {},
     "output_type": "execute_result"
    }
   ],
   "execution_count": 36
  },
  {
   "metadata": {
    "ExecuteTime": {
     "end_time": "2024-12-31T10:27:43.179429Z",
     "start_time": "2024-12-31T10:27:43.175475Z"
    }
   },
   "cell_type": "code",
   "source": "randarr.argmin() # index of the minimum value",
   "id": "4bf0fa39c213fc52",
   "outputs": [
    {
     "data": {
      "text/plain": [
       "6"
      ]
     },
     "execution_count": 37,
     "metadata": {},
     "output_type": "execute_result"
    }
   ],
   "execution_count": 37
  },
  {
   "metadata": {
    "ExecuteTime": {
     "end_time": "2024-12-31T10:29:47.407714Z",
     "start_time": "2024-12-31T10:29:47.403753Z"
    }
   },
   "cell_type": "code",
   "source": "arr.shape # shape of the array",
   "id": "33a1a22818ccbd4b",
   "outputs": [
    {
     "data": {
      "text/plain": [
       "(25,)"
      ]
     },
     "execution_count": 39,
     "metadata": {},
     "output_type": "execute_result"
    }
   ],
   "execution_count": 39
  },
  {
   "metadata": {
    "ExecuteTime": {
     "end_time": "2024-12-31T10:30:00.037222Z",
     "start_time": "2024-12-31T10:30:00.033390Z"
    }
   },
   "cell_type": "code",
   "source": "randarr.shape # shape of the array",
   "id": "498fd3eb614b0c3d",
   "outputs": [
    {
     "data": {
      "text/plain": [
       "(15,)"
      ]
     },
     "execution_count": 40,
     "metadata": {},
     "output_type": "execute_result"
    }
   ],
   "execution_count": 40
  },
  {
   "metadata": {
    "ExecuteTime": {
     "end_time": "2024-12-31T10:31:02.334933Z",
     "start_time": "2024-12-31T10:31:02.331873Z"
    }
   },
   "cell_type": "code",
   "source": "arr.dtype # data type",
   "id": "189a126bf163865c",
   "outputs": [
    {
     "data": {
      "text/plain": [
       "dtype('int64')"
      ]
     },
     "execution_count": 41,
     "metadata": {},
     "output_type": "execute_result"
    }
   ],
   "execution_count": 41
  },
  {
   "metadata": {
    "ExecuteTime": {
     "end_time": "2024-12-31T10:31:08.542417Z",
     "start_time": "2024-12-31T10:31:08.537929Z"
    }
   },
   "cell_type": "code",
   "source": "randarr.dtype # data type",
   "id": "d8ab09a59d6bf8d4",
   "outputs": [
    {
     "data": {
      "text/plain": [
       "dtype('int64')"
      ]
     },
     "execution_count": 42,
     "metadata": {},
     "output_type": "execute_result"
    }
   ],
   "execution_count": 42
  },
  {
   "metadata": {
    "ExecuteTime": {
     "end_time": "2025-02-09T23:20:28.809231Z",
     "start_time": "2025-02-09T23:20:23.194876Z"
    }
   },
   "cell_type": "code",
   "source": [
    "def max_desserts(N, required_quantities, current_stocks):\n",
    "    max_desserts_possible = float('inf')\n",
    "\n",
    "    for i in range(N):\n",
    "        max_desserts_possible = min(max_desserts_possible, current_stocks[i] // required_quantities[i])\n",
    "\n",
    "    return max_desserts_possible\n",
    "\n",
    "# Read input\n",
    "N = int(input())\n",
    "required_quantities = list(map(int, input().split()))\n",
    "current_stocks = list(map(int, input().split()))\n",
    "\n",
    "# Calculate and print the maximum number of desserts\n",
    "print(max_desserts(N, required_quantities, current_stocks))"
   ],
   "id": "2085eaa5afa77fb0",
   "outputs": [
    {
     "ename": "KeyboardInterrupt",
     "evalue": "Interrupted by user",
     "output_type": "error",
     "traceback": [
      "\u001B[0;31m---------------------------------------------------------------------------\u001B[0m",
      "\u001B[0;31mKeyboardInterrupt\u001B[0m                         Traceback (most recent call last)",
      "Cell \u001B[0;32mIn[1], line 10\u001B[0m\n\u001B[1;32m      7\u001B[0m     \u001B[38;5;28;01mreturn\u001B[39;00m max_desserts_possible\n\u001B[1;32m      9\u001B[0m \u001B[38;5;66;03m# Read input\u001B[39;00m\n\u001B[0;32m---> 10\u001B[0m N \u001B[38;5;241m=\u001B[39m \u001B[38;5;28mint\u001B[39m(\u001B[38;5;28;43minput\u001B[39;49m\u001B[43m(\u001B[49m\u001B[43m)\u001B[49m)\n\u001B[1;32m     11\u001B[0m required_quantities \u001B[38;5;241m=\u001B[39m \u001B[38;5;28mlist\u001B[39m(\u001B[38;5;28mmap\u001B[39m(\u001B[38;5;28mint\u001B[39m, \u001B[38;5;28minput\u001B[39m()\u001B[38;5;241m.\u001B[39msplit()))\n\u001B[1;32m     12\u001B[0m current_stocks \u001B[38;5;241m=\u001B[39m \u001B[38;5;28mlist\u001B[39m(\u001B[38;5;28mmap\u001B[39m(\u001B[38;5;28mint\u001B[39m, \u001B[38;5;28minput\u001B[39m()\u001B[38;5;241m.\u001B[39msplit()))\n",
      "File \u001B[0;32m/opt/anaconda3/envs/pyflow/lib/python3.10/site-packages/ipykernel/kernelbase.py:1262\u001B[0m, in \u001B[0;36mKernel.raw_input\u001B[0;34m(self, prompt)\u001B[0m\n\u001B[1;32m   1260\u001B[0m     msg \u001B[38;5;241m=\u001B[39m \u001B[38;5;124m\"\u001B[39m\u001B[38;5;124mraw_input was called, but this frontend does not support input requests.\u001B[39m\u001B[38;5;124m\"\u001B[39m\n\u001B[1;32m   1261\u001B[0m     \u001B[38;5;28;01mraise\u001B[39;00m StdinNotImplementedError(msg)\n\u001B[0;32m-> 1262\u001B[0m \u001B[38;5;28;01mreturn\u001B[39;00m \u001B[38;5;28;43mself\u001B[39;49m\u001B[38;5;241;43m.\u001B[39;49m\u001B[43m_input_request\u001B[49m\u001B[43m(\u001B[49m\n\u001B[1;32m   1263\u001B[0m \u001B[43m    \u001B[49m\u001B[38;5;28;43mstr\u001B[39;49m\u001B[43m(\u001B[49m\u001B[43mprompt\u001B[49m\u001B[43m)\u001B[49m\u001B[43m,\u001B[49m\n\u001B[1;32m   1264\u001B[0m \u001B[43m    \u001B[49m\u001B[38;5;28;43mself\u001B[39;49m\u001B[38;5;241;43m.\u001B[39;49m\u001B[43m_parent_ident\u001B[49m\u001B[43m[\u001B[49m\u001B[38;5;124;43m\"\u001B[39;49m\u001B[38;5;124;43mshell\u001B[39;49m\u001B[38;5;124;43m\"\u001B[39;49m\u001B[43m]\u001B[49m\u001B[43m,\u001B[49m\n\u001B[1;32m   1265\u001B[0m \u001B[43m    \u001B[49m\u001B[38;5;28;43mself\u001B[39;49m\u001B[38;5;241;43m.\u001B[39;49m\u001B[43mget_parent\u001B[49m\u001B[43m(\u001B[49m\u001B[38;5;124;43m\"\u001B[39;49m\u001B[38;5;124;43mshell\u001B[39;49m\u001B[38;5;124;43m\"\u001B[39;49m\u001B[43m)\u001B[49m\u001B[43m,\u001B[49m\n\u001B[1;32m   1266\u001B[0m \u001B[43m    \u001B[49m\u001B[43mpassword\u001B[49m\u001B[38;5;241;43m=\u001B[39;49m\u001B[38;5;28;43;01mFalse\u001B[39;49;00m\u001B[43m,\u001B[49m\n\u001B[1;32m   1267\u001B[0m \u001B[43m\u001B[49m\u001B[43m)\u001B[49m\n",
      "File \u001B[0;32m/opt/anaconda3/envs/pyflow/lib/python3.10/site-packages/ipykernel/kernelbase.py:1305\u001B[0m, in \u001B[0;36mKernel._input_request\u001B[0;34m(self, prompt, ident, parent, password)\u001B[0m\n\u001B[1;32m   1302\u001B[0m \u001B[38;5;28;01mexcept\u001B[39;00m \u001B[38;5;167;01mKeyboardInterrupt\u001B[39;00m:\n\u001B[1;32m   1303\u001B[0m     \u001B[38;5;66;03m# re-raise KeyboardInterrupt, to truncate traceback\u001B[39;00m\n\u001B[1;32m   1304\u001B[0m     msg \u001B[38;5;241m=\u001B[39m \u001B[38;5;124m\"\u001B[39m\u001B[38;5;124mInterrupted by user\u001B[39m\u001B[38;5;124m\"\u001B[39m\n\u001B[0;32m-> 1305\u001B[0m     \u001B[38;5;28;01mraise\u001B[39;00m \u001B[38;5;167;01mKeyboardInterrupt\u001B[39;00m(msg) \u001B[38;5;28;01mfrom\u001B[39;00m \u001B[38;5;28;01mNone\u001B[39;00m\n\u001B[1;32m   1306\u001B[0m \u001B[38;5;28;01mexcept\u001B[39;00m \u001B[38;5;167;01mException\u001B[39;00m:\n\u001B[1;32m   1307\u001B[0m     \u001B[38;5;28mself\u001B[39m\u001B[38;5;241m.\u001B[39mlog\u001B[38;5;241m.\u001B[39mwarning(\u001B[38;5;124m\"\u001B[39m\u001B[38;5;124mInvalid Message:\u001B[39m\u001B[38;5;124m\"\u001B[39m, exc_info\u001B[38;5;241m=\u001B[39m\u001B[38;5;28;01mTrue\u001B[39;00m)\n",
      "\u001B[0;31mKeyboardInterrupt\u001B[0m: Interrupted by user"
     ]
    }
   ],
   "execution_count": 1
  },
  {
   "metadata": {},
   "cell_type": "code",
   "outputs": [],
   "execution_count": null,
   "source": "",
   "id": "410cf8dfe49cd81f"
  }
 ],
 "metadata": {
  "kernelspec": {
   "display_name": "Python 3",
   "language": "python",
   "name": "python3"
  },
  "language_info": {
   "codemirror_mode": {
    "name": "ipython",
    "version": 2
   },
   "file_extension": ".py",
   "mimetype": "text/x-python",
   "name": "python",
   "nbconvert_exporter": "python",
   "pygments_lexer": "ipython2",
   "version": "2.7.6"
  }
 },
 "nbformat": 4,
 "nbformat_minor": 5
}
