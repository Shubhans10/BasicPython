{
 "cells": [
  {
   "cell_type": "code",
   "id": "initial_id",
   "metadata": {
    "collapsed": true,
    "ExecuteTime": {
     "end_time": "2025-02-10T21:00:21.734341Z",
     "start_time": "2025-02-10T21:00:21.731165Z"
    }
   },
   "source": "import numpy as np",
   "outputs": [],
   "execution_count": 3
  },
  {
   "metadata": {
    "ExecuteTime": {
     "end_time": "2025-02-10T21:00:49.460625Z",
     "start_time": "2025-02-10T21:00:49.458238Z"
    }
   },
   "cell_type": "code",
   "source": "arr = np.arange(0,11)",
   "id": "924decbc6914ac0f",
   "outputs": [],
   "execution_count": 4
  },
  {
   "metadata": {
    "ExecuteTime": {
     "end_time": "2025-02-10T21:00:51.922993Z",
     "start_time": "2025-02-10T21:00:51.919606Z"
    }
   },
   "cell_type": "code",
   "source": "arr",
   "id": "4c9078d266ff6ecb",
   "outputs": [
    {
     "data": {
      "text/plain": [
       "array([ 0,  1,  2,  3,  4,  5,  6,  7,  8,  9, 10])"
      ]
     },
     "execution_count": 5,
     "metadata": {},
     "output_type": "execute_result"
    }
   ],
   "execution_count": 5
  },
  {
   "metadata": {
    "ExecuteTime": {
     "end_time": "2025-02-10T21:01:16.200187Z",
     "start_time": "2025-02-10T21:01:16.196660Z"
    }
   },
   "cell_type": "code",
   "source": "arr + arr",
   "id": "64b1495ab1873dea",
   "outputs": [
    {
     "data": {
      "text/plain": [
       "array([ 0,  2,  4,  6,  8, 10, 12, 14, 16, 18, 20])"
      ]
     },
     "execution_count": 6,
     "metadata": {},
     "output_type": "execute_result"
    }
   ],
   "execution_count": 6
  },
  {
   "metadata": {
    "ExecuteTime": {
     "end_time": "2025-02-10T21:01:25.169856Z",
     "start_time": "2025-02-10T21:01:25.167083Z"
    }
   },
   "cell_type": "code",
   "source": "arr - arr",
   "id": "5ab7a24da7d44083",
   "outputs": [
    {
     "data": {
      "text/plain": [
       "array([0, 0, 0, 0, 0, 0, 0, 0, 0, 0, 0])"
      ]
     },
     "execution_count": 7,
     "metadata": {},
     "output_type": "execute_result"
    }
   ],
   "execution_count": 7
  },
  {
   "metadata": {
    "ExecuteTime": {
     "end_time": "2025-02-10T21:01:32.250602Z",
     "start_time": "2025-02-10T21:01:32.248360Z"
    }
   },
   "cell_type": "code",
   "source": "arr * arr",
   "id": "2cb19979f44a2c40",
   "outputs": [
    {
     "data": {
      "text/plain": [
       "array([  0,   1,   4,   9,  16,  25,  36,  49,  64,  81, 100])"
      ]
     },
     "execution_count": 8,
     "metadata": {},
     "output_type": "execute_result"
    }
   ],
   "execution_count": 8
  },
  {
   "metadata": {
    "ExecuteTime": {
     "end_time": "2025-02-10T21:01:55.355441Z",
     "start_time": "2025-02-10T21:01:55.352186Z"
    }
   },
   "cell_type": "code",
   "source": "arr + 100",
   "id": "14580a0aef303250",
   "outputs": [
    {
     "data": {
      "text/plain": [
       "array([100, 101, 102, 103, 104, 105, 106, 107, 108, 109, 110])"
      ]
     },
     "execution_count": 9,
     "metadata": {},
     "output_type": "execute_result"
    }
   ],
   "execution_count": 9
  },
  {
   "metadata": {
    "ExecuteTime": {
     "end_time": "2025-02-10T21:02:10.607600Z",
     "start_time": "2025-02-10T21:02:10.604089Z"
    }
   },
   "cell_type": "code",
   "source": "arr - 100",
   "id": "abfaf3a882960fa3",
   "outputs": [
    {
     "data": {
      "text/plain": [
       "array([-100,  -99,  -98,  -97,  -96,  -95,  -94,  -93,  -92,  -91,  -90])"
      ]
     },
     "execution_count": 10,
     "metadata": {},
     "output_type": "execute_result"
    }
   ],
   "execution_count": 10
  },
  {
   "metadata": {
    "ExecuteTime": {
     "end_time": "2025-02-10T21:02:52.174056Z",
     "start_time": "2025-02-10T21:02:52.168876Z"
    }
   },
   "cell_type": "code",
   "source": "arr/arr # warning for division by zero",
   "id": "dc30a7d94ebf863b",
   "outputs": [
    {
     "name": "stderr",
     "output_type": "stream",
     "text": [
      "/var/folders/mv/j66d8vgn3_b7kd3f04wd_bd00000gn/T/ipykernel_22622/3576909265.py:1: RuntimeWarning: invalid value encountered in divide\n",
      "  arr/arr\n"
     ]
    },
    {
     "data": {
      "text/plain": [
       "array([nan,  1.,  1.,  1.,  1.,  1.,  1.,  1.,  1.,  1.,  1.])"
      ]
     },
     "execution_count": 12,
     "metadata": {},
     "output_type": "execute_result"
    }
   ],
   "execution_count": 12
  },
  {
   "metadata": {
    "ExecuteTime": {
     "end_time": "2025-02-10T21:03:51.091191Z",
     "start_time": "2025-02-10T21:03:51.087987Z"
    }
   },
   "cell_type": "code",
   "source": "1/arr # warning for division by zero",
   "id": "758373fd35737921",
   "outputs": [
    {
     "name": "stderr",
     "output_type": "stream",
     "text": [
      "/var/folders/mv/j66d8vgn3_b7kd3f04wd_bd00000gn/T/ipykernel_22622/3166499923.py:1: RuntimeWarning: divide by zero encountered in divide\n",
      "  1/arr\n"
     ]
    },
    {
     "data": {
      "text/plain": [
       "array([       inf, 1.        , 0.5       , 0.33333333, 0.25      ,\n",
       "       0.2       , 0.16666667, 0.14285714, 0.125     , 0.11111111,\n",
       "       0.1       ])"
      ]
     },
     "execution_count": 13,
     "metadata": {},
     "output_type": "execute_result"
    }
   ],
   "execution_count": 13
  },
  {
   "metadata": {
    "ExecuteTime": {
     "end_time": "2025-02-10T21:04:49.060463Z",
     "start_time": "2025-02-10T21:04:49.057063Z"
    }
   },
   "cell_type": "code",
   "source": "np.sqrt(arr)",
   "id": "4a0b08f4d8e275db",
   "outputs": [
    {
     "data": {
      "text/plain": [
       "array([0.        , 1.        , 1.41421356, 1.73205081, 2.        ,\n",
       "       2.23606798, 2.44948974, 2.64575131, 2.82842712, 3.        ,\n",
       "       3.16227766])"
      ]
     },
     "execution_count": 14,
     "metadata": {},
     "output_type": "execute_result"
    }
   ],
   "execution_count": 14
  },
  {
   "metadata": {
    "ExecuteTime": {
     "end_time": "2025-02-10T21:04:55.121983Z",
     "start_time": "2025-02-10T21:04:55.118172Z"
    }
   },
   "cell_type": "code",
   "source": "np.exp(arr)",
   "id": "41f91e2d4d0f5701",
   "outputs": [
    {
     "data": {
      "text/plain": [
       "array([1.00000000e+00, 2.71828183e+00, 7.38905610e+00, 2.00855369e+01,\n",
       "       5.45981500e+01, 1.48413159e+02, 4.03428793e+02, 1.09663316e+03,\n",
       "       2.98095799e+03, 8.10308393e+03, 2.20264658e+04])"
      ]
     },
     "execution_count": 15,
     "metadata": {},
     "output_type": "execute_result"
    }
   ],
   "execution_count": 15
  },
  {
   "metadata": {
    "ExecuteTime": {
     "end_time": "2025-02-10T21:05:09.633256Z",
     "start_time": "2025-02-10T21:05:09.629985Z"
    }
   },
   "cell_type": "code",
   "source": "np.max(arr)",
   "id": "83a8e81e5f980f1a",
   "outputs": [
    {
     "data": {
      "text/plain": [
       "10"
      ]
     },
     "execution_count": 16,
     "metadata": {},
     "output_type": "execute_result"
    }
   ],
   "execution_count": 16
  },
  {
   "metadata": {
    "ExecuteTime": {
     "end_time": "2025-02-10T21:05:16.344957Z",
     "start_time": "2025-02-10T21:05:16.342695Z"
    }
   },
   "cell_type": "code",
   "source": "arr.max()",
   "id": "f1a3ee9b75be3adf",
   "outputs": [
    {
     "data": {
      "text/plain": [
       "10"
      ]
     },
     "execution_count": 17,
     "metadata": {},
     "output_type": "execute_result"
    }
   ],
   "execution_count": 17
  },
  {
   "metadata": {
    "ExecuteTime": {
     "end_time": "2025-02-10T21:05:27.837535Z",
     "start_time": "2025-02-10T21:05:27.834125Z"
    }
   },
   "cell_type": "code",
   "source": "np.sin(arr)",
   "id": "76ee04d02ef068fe",
   "outputs": [
    {
     "data": {
      "text/plain": [
       "array([ 0.        ,  0.84147098,  0.90929743,  0.14112001, -0.7568025 ,\n",
       "       -0.95892427, -0.2794155 ,  0.6569866 ,  0.98935825,  0.41211849,\n",
       "       -0.54402111])"
      ]
     },
     "execution_count": 18,
     "metadata": {},
     "output_type": "execute_result"
    }
   ],
   "execution_count": 18
  },
  {
   "metadata": {
    "ExecuteTime": {
     "end_time": "2025-02-10T21:05:46.534099Z",
     "start_time": "2025-02-10T21:05:46.530608Z"
    }
   },
   "cell_type": "code",
   "source": "np.log(arr)",
   "id": "c6f6cc6fd5648e71",
   "outputs": [
    {
     "name": "stderr",
     "output_type": "stream",
     "text": [
      "/var/folders/mv/j66d8vgn3_b7kd3f04wd_bd00000gn/T/ipykernel_22622/2931416741.py:1: RuntimeWarning: divide by zero encountered in log\n",
      "  np.log(arr)\n"
     ]
    },
    {
     "data": {
      "text/plain": [
       "array([      -inf, 0.        , 0.69314718, 1.09861229, 1.38629436,\n",
       "       1.60943791, 1.79175947, 1.94591015, 2.07944154, 2.19722458,\n",
       "       2.30258509])"
      ]
     },
     "execution_count": 19,
     "metadata": {},
     "output_type": "execute_result"
    }
   ],
   "execution_count": 19
  },
  {
   "metadata": {},
   "cell_type": "code",
   "outputs": [],
   "execution_count": null,
   "source": "",
   "id": "226ef0db7b0c955f"
  }
 ],
 "metadata": {
  "kernelspec": {
   "display_name": "Python 3",
   "language": "python",
   "name": "python3"
  },
  "language_info": {
   "codemirror_mode": {
    "name": "ipython",
    "version": 2
   },
   "file_extension": ".py",
   "mimetype": "text/x-python",
   "name": "python",
   "nbconvert_exporter": "python",
   "pygments_lexer": "ipython2",
   "version": "2.7.6"
  }
 },
 "nbformat": 4,
 "nbformat_minor": 5
}
